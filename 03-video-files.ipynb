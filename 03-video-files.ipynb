{
 "cells": [
  {
   "cell_type": "markdown",
   "metadata": {},
   "source": [
    "# Video files\n",
    "\n",
    "## Analysis\n",
    "\n",
    "The Mechwarrior 3 intro and campaign videos are found in the `video` folder on the CD. They can also optionally be installed to the hard drive, which is beneficial if the disc has DRM/weak sectors or simply for processing speed on modern solid-state drives. They are [AVI containers](https://en.wikipedia.org/wiki/Audio_Video_Interleave) (`*.avi`). [`ffmpeg`](https://www.ffmpeg.org/) is a great tool for analysing and encoding videos, although it can be tricky to use. First, analysis of the files using `ffprobe`:\n",
    "\n",
    "```bash\n",
    "for f in *.avi; do ffprobe -hide_banner \"$f\"; done\n",
    "```\n",
    "\n",
    "The file checksums between the US versions 1.0, 1.1, and 1.2 are exactly the same (on the CD - I don't think the patch affects the video files, simply based on the size, but haven't checked).\n",
    "\n",
    "The video streams are encoded using Intel's [Indeo codec](https://en.wikipedia.org/wiki/Indeo) (version 5, FourCC `IV50`). They are all 640x480 at 15 frames per second, although the bitrates vary from 3020 kb/s to 1260 kb/s. The audio streams are raw [pulse-code modulation (PCM)](https://en.wikipedia.org/wiki/Pulse-code_modulation) at 22050 Hz, so uncompressed.\n",
    "\n",
    "For the US version, most audio streams are mono with unsigned 8-bit samples, resulting in a bitrate of 176 kb/s. Two files (`c1.avi` and `intro.avi`) are stereo with little-endian signed 16-bit samples, resulting in a much higher bitrate of 705 kb/s. For the German version, the opposite is true. Most are stereo with little-endian signed 16-bit samples, while `intro.avi` and `c4win.avi` are mono unsigned 8-bit. Interestingly, these have the metadata \"Sound Forge 4.0 Audio\" attached, which was a [German sound editing program](https://en.wikipedia.org/wiki/Sound_Forge), probably used by the localisation team.\n",
    "\n",
    "These codecs were no doubt chosen because they could be decoded with very little CPU, not because of their quality. This is especially true if they had to be streamed from the CD. Codecs have come far since then, with ubiquitous hardware support. I think re-encoding these files is the best option for preservation. Indeo has at least one [vulnerability](https://support.microsoft.com/en-us/help/954157/microsoft-security-advisory-vulnerabilities-in-the-indeo-codec-could-a), meaning the codec is unlikely to be installed on modern systems."
   ]
  },
  {
   "cell_type": "markdown",
   "metadata": {},
   "source": [
    "## Re-encoding\n",
    "\n",
    "To compress the audio, there are several options. If supported, [advanced audio coding (ACC)](https://en.wikipedia.org/wiki/Advanced_Audio_Coding) is excellent at low bitrates, and for mainly speech, using 64 kb/s is fine without any concerns of quality loss. The command line options are `-codec:a aac -b:a 64k` *. AAC is patented and not all game engines support it. This is generally problematic for good audio codecs. A viable alternative is to not alter the audio and just copy it using `-codec:a copy`, as raw PCM support is ubiquitous.\n",
    "\n",
    "As mentioned, I definitely want to re-encode the video because of known Indeo vulnerabilities. H.264/x264 is widely supported. Quality-wise, it's a bit trickier than the audio, because it's more subjective in comparisons. The original video is highly compressed, with visible compression artefacts - please keep this in mind, the re-encoded file can't be better than the original. So personally, I find the video re-encoded with a low bitrate fine. In fact, choosing a low bitrate smooths some of the original, block-y compression artefacts out (the smoothing could be done via processing at higher bitrates). But you can decide for yourself, in a minute I'll show how to compare the re-encoded to the original. And worst case, files can be re-encoded from the original again.\n",
    "\n",
    "My recommendation is to use a fairly quick encoding to test things out, and a low quality factor. Something like `-codec:v libx264 -preset medium -crf 28`. It's worth reading the [`ffmpeg` H.264 encoding guide](https://trac.ffmpeg.org/wiki/Encode/H.264) if you wish to change these parameters. Choose a slower preset should deliver the same quality at a lower bitrate, at expense of encoding time. Choosing a lower `crf` value will increase the bitrate, which in theory increases quality. Given the source material, that probably won't do much those. Once you're happy with the parameters, I'd suggest using a slower preset for the final encoding, like `veryslow`, since processing power is cheap and these videos are short and have a tiny resolution (generally, the preset doesn't affect quality very much).\n",
    "\n",
    "For a container format with maximum compatibility, I've chosen [MPEG-4](https://en.wikipedia.org/wiki/MPEG-4_Part_14) (`*.mp4`), although if supported by your use-case, the open standard [Matroska](https://matroska.org/) (`*.mkv`) is an excellent choice.\n",
    "\n",
    "---\n",
    "\n",
    "\\* `libfdk` [might be slightly higher in quality](https://trac.ffmpeg.org/wiki/Encode/AAC), and if your build of `ffmpeg` was compiled with `libfdk` support you could try using the `libfdk_aac` codec. That also enabled the use of variable bit rate. However, I don't think it's worth the effort. The input isn't exactly high quality in the first place, and the built-in AAC encoder is pretty good.\n",
    "\n",
    "### TL;DR\n",
    "\n",
    "```bash\n",
    "for f in *.avi\n",
    "do\n",
    "    ffmpeg -i \"$f\" -codec:v \"libx264\" -preset \"medium\" -crf \"30\" -codec:a \"aac\" -b:a \"64k\" \"${f%.*}.mp4\"\n",
    "done\n",
    "```"
   ]
  },
  {
   "cell_type": "markdown",
   "metadata": {},
   "source": [
    "## Comparing results\n",
    "\n",
    "The [MPV](https://mpv.io/) media player [can play two (or more) videos side-by-side](https://superuser.com/a/1325668), which is great for comparing the encoded video. \n",
    "\n",
    "```bash\n",
    "mpv --lavfi-complex=\"[vid1][vid2]hstack[vo]\" intro.avi --external-file=intro.mp4\n",
    "```"
   ]
  },
  {
   "cell_type": "markdown",
   "metadata": {},
   "source": [
    "## Next up\n",
    "\n",
    "Skip over the discussion of the modern codec performance to [installation and version comparison](04-installation.ipynb)"
   ]
  },
  {
   "cell_type": "markdown",
   "metadata": {},
   "source": [
    "## Modern codec performance\n",
    "\n",
    "It's interesting to see just how far codecs have come. For those settings, the average reduction in size is 86.5% for the US version and almost 89% for the German version!"
   ]
  },
  {
   "cell_type": "code",
   "execution_count": 1,
   "metadata": {},
   "outputs": [
    {
     "data": {
      "text/html": [
       "<table style='width:100%'><caption>video/v1.0-de</caption><thead><tr><th>Filename</th><th>Original size</th><th>Compressed size</th><th>Reduction</th></tr></thead><tbody><tr><td>intro.avi</td><td>76.00 MiB</td><td> 5.33 MiB</td><td>93.0%</td></tr><tr><td>Campaign.avi</td><td>77.76 MiB</td><td>11.35 MiB</td><td>85.4%</td></tr><tr><td>c2.avi</td><td>13.32 MiB</td><td> 1.67 MiB</td><td>87.5%</td></tr><tr><td>c3m6.avi</td><td> 7.15 MiB</td><td> 0.84 MiB</td><td>88.3%</td></tr><tr><td>c1m4.avi</td><td>11.38 MiB</td><td> 1.16 MiB</td><td>89.8%</td></tr><tr><td>c3.avi</td><td> 6.88 MiB</td><td> 1.62 MiB</td><td>76.5%</td></tr><tr><td>c4win.avi</td><td>23.98 MiB</td><td> 1.50 MiB</td><td>93.8%</td></tr><tr><td>c1.avi</td><td>13.45 MiB</td><td> 1.36 MiB</td><td>89.9%</td></tr><tr><td>c3m4.avi</td><td> 9.27 MiB</td><td> 1.13 MiB</td><td>87.9%</td></tr><tr><td>c3m5.avi</td><td>11.80 MiB</td><td> 1.08 MiB</td><td>90.9%</td></tr><tr><td>c1m3.avi</td><td> 6.50 MiB</td><td> 0.74 MiB</td><td>88.5%</td></tr><tr><td>c3m1.avi</td><td> 7.38 MiB</td><td> 1.06 MiB</td><td>85.6%</td></tr><tr><td>c1m2.avi</td><td> 7.44 MiB</td><td> 0.77 MiB</td><td>89.6%</td></tr><tr><td>c3m2.avi</td><td> 7.75 MiB</td><td> 1.02 MiB</td><td>86.8%</td></tr><tr><td>c1m1.avi</td><td>10.88 MiB</td><td> 0.97 MiB</td><td>91.1%</td></tr><tr><td>c2m4.avi</td><td> 9.46 MiB</td><td> 0.79 MiB</td><td>91.6%</td></tr><tr><td>c2m2.avi</td><td>12.86 MiB</td><td> 1.22 MiB</td><td>90.5%</td></tr><tr><td>c2m3.avi</td><td> 7.86 MiB</td><td> 0.75 MiB</td><td>90.5%</td></tr><tr><td>c2m1.avi</td><td> 5.95 MiB</td><td> 0.65 MiB</td><td>89.1%</td></tr><tr><th colspan='4'>Average reduction: 88.7%</th></tr></tbody></table>"
      ],
      "text/plain": [
       "<IPython.core.display.HTML object>"
      ]
     },
     "metadata": {},
     "output_type": "display_data"
    },
    {
     "data": {
      "text/html": [
       "<table style='width:100%'><caption>video/v1.0-us</caption><thead><tr><th>Filename</th><th>Original size</th><th>Compressed size</th><th>Reduction</th></tr></thead><tbody><tr><td>intro.avi</td><td>78.36 MiB</td><td> 5.47 MiB</td><td>93.0%</td></tr><tr><td>Campaign.avi</td><td>80.85 MiB</td><td>12.45 MiB</td><td>84.6%</td></tr><tr><td>c2.avi</td><td>10.79 MiB</td><td> 1.67 MiB</td><td>84.6%</td></tr><tr><td>c3m6.avi</td><td> 5.73 MiB</td><td> 0.84 MiB</td><td>85.3%</td></tr><tr><td>c1m4.avi</td><td> 9.17 MiB</td><td> 1.16 MiB</td><td>87.4%</td></tr><tr><td>c3.avi</td><td> 5.48 MiB</td><td> 1.62 MiB</td><td>70.5%</td></tr><tr><td>c4win.avi</td><td>23.98 MiB</td><td> 1.49 MiB</td><td>93.8%</td></tr><tr><td>c1.avi</td><td>14.50 MiB</td><td> 1.36 MiB</td><td>90.6%</td></tr><tr><td>c3m4.avi</td><td> 7.45 MiB</td><td> 1.12 MiB</td><td>84.9%</td></tr><tr><td>c3m5.avi</td><td> 9.49 MiB</td><td> 1.08 MiB</td><td>88.6%</td></tr><tr><td>c1m3.avi</td><td> 5.21 MiB</td><td> 0.74 MiB</td><td>85.7%</td></tr><tr><td>c3m1.avi</td><td> 5.93 MiB</td><td> 1.06 MiB</td><td>82.1%</td></tr><tr><td>c1m2.avi</td><td> 5.96 MiB</td><td> 0.77 MiB</td><td>87.0%</td></tr><tr><td>c3m2.avi</td><td> 6.24 MiB</td><td> 1.02 MiB</td><td>83.6%</td></tr><tr><td>c1m1.avi</td><td> 8.75 MiB</td><td> 0.97 MiB</td><td>88.9%</td></tr><tr><td>c2m4.avi</td><td> 7.68 MiB</td><td> 0.79 MiB</td><td>89.7%</td></tr><tr><td>c2m2.avi</td><td>10.41 MiB</td><td> 1.22 MiB</td><td>88.3%</td></tr><tr><td>c2m3.avi</td><td> 6.31 MiB</td><td> 0.75 MiB</td><td>88.2%</td></tr><tr><td>c2m1.avi</td><td> 4.77 MiB</td><td> 0.65 MiB</td><td>86.4%</td></tr><tr><th colspan='4'>Average reduction: 86.5%</th></tr></tbody></table>"
      ],
      "text/plain": [
       "<IPython.core.display.HTML object>"
      ]
     },
     "metadata": {},
     "output_type": "display_data"
    }
   ],
   "source": [
    "from pathlib import Path\n",
    "from IPython.display import HTML, display\n",
    "\n",
    "\n",
    "def mb(size):\n",
    "    return size / 1024 / 1024\n",
    "\n",
    "\n",
    "def savings(path):\n",
    "    video_path = Path(path)\n",
    "    table = [\n",
    "        \"<table style='width:100%'>\",\n",
    "        \"<caption>\",\n",
    "        str(video_path),\n",
    "        \"</caption>\",\n",
    "        \"<thead>\",\n",
    "        \"<tr>\",\n",
    "        \"<th>Filename</th>\",\n",
    "        \"<th>Original size</th>\",\n",
    "        \"<th>Compressed size</th>\",\n",
    "        \"<th>Reduction</th>\",\n",
    "        \"</tr>\",\n",
    "        \"</thead>\",\n",
    "        \"<tbody>\",\n",
    "    ]\n",
    "\n",
    "    avg = 0.0\n",
    "    count = 0\n",
    "    for avi in video_path.glob(\"*.avi\"):\n",
    "        mp4 = avi.with_suffix(\".mp4\").resolve(strict=True)\n",
    "        avi_size = avi.stat().st_size\n",
    "        mp4_size = mp4.stat().st_size\n",
    "        percentage = mp4_size / avi_size\n",
    "        avg += percentage\n",
    "        count += 1\n",
    "        table.extend([\n",
    "            \"<tr>\",\n",
    "            f\"<td>{avi.name}</td>\",\n",
    "            f\"<td>{mb(avi_size):>5.2f} MiB</td>\",\n",
    "            f\"<td>{mb(mp4_size):>5.2f} MiB</td>\",\n",
    "            f\"<td>{1 - percentage:>5.1%}</td>\",\n",
    "            \"</tr>\",\n",
    "        ])\n",
    "    avg = avg / count\n",
    "    table.extend([\n",
    "        f\"<tr><th colspan='4'>Average reduction: {1 - avg:>5.1%}</th></tr>\",\n",
    "        \"</tbody>\",\n",
    "        \"</table>\",\n",
    "    ])\n",
    "    return HTML(\"\".join(table))\n",
    "\n",
    "display(savings(\"video/v1.0-de\"))\n",
    "display(savings(\"video/v1.0-us\"))"
   ]
  },
  {
   "cell_type": "markdown",
   "metadata": {},
   "source": [
    "## Next up\n",
    "\n",
    "[Installation and version comparison](04-installation.ipynb)"
   ]
  },
  {
   "cell_type": "code",
   "execution_count": null,
   "metadata": {},
   "outputs": [],
   "source": []
  }
 ],
 "metadata": {
  "kernelspec": {
   "display_name": "Python 3",
   "language": "python",
   "name": "python3"
  },
  "language_info": {
   "codemirror_mode": {
    "name": "ipython",
    "version": 3
   },
   "file_extension": ".py",
   "mimetype": "text/x-python",
   "name": "python",
   "nbconvert_exporter": "python",
   "pygments_lexer": "ipython3",
   "version": "3.7.7"
  }
 },
 "nbformat": 4,
 "nbformat_minor": 2
}

{
 "cells": [
  {
   "cell_type": "markdown",
   "metadata": {},
   "source": [
    "# Interpreter data\n",
    "\n",
    "This is a quite short file, which is good. This is pretty easy to analyse at the start, there's a signature, some constant, and a count value with corresponds to a number of records seemingly named `*.gw` and `*.gs`."
   ]
  },
  {
   "cell_type": "code",
   "execution_count": 1,
   "metadata": {},
   "outputs": [],
   "source": [
    "from pathlib import Path\n",
    "from struct import unpack_from\n",
    "\n",
    "path = Path(\"install\") / \"v1.0-us-pre\" / \"zbd\" / \"interp.zbd\"\n",
    "\n",
    "data = path.read_bytes()\n",
    "signature, seven, count = unpack_from(\"<3I\", data, 0)\n",
    "\n",
    "# these are always the same?\n",
    "assert signature == 0x08971119, signature\n",
    "assert seven == 7, seven\n",
    "\n",
    "offsets = {}\n",
    "unknown = {}\n",
    "for i in range(count):\n",
    "    raw_name, unk1, unk2, unk3, unk4, offset = unpack_from(\n",
    "        \"<120s4BI\", data, 3 * 4 + i * 128\n",
    "    )\n",
    "    assert unk4 in (53, 54, 55)\n",
    "    name = raw_name.rstrip(b\"\\0\").decode(\"ascii\")\n",
    "    offsets[name] = offset\n",
    "    unknown[name] = (unk1, unk2, unk3, unk4)\n",
    "\n",
    "# are the records ordered?\n",
    "assert list(offsets.values()) == sorted(offsets.values())"
   ]
  },
  {
   "cell_type": "markdown",
   "metadata": {},
   "source": [
    "This works rather well. Of note is that the lengths of the data isn't stored. This would make sense if the data is self-terminating, and the program just jumps to the offset and executes the script, although it's still interesting that memory didn't need to be known in advance. Maybe the unknown values signify how many objects will be created? It doesn't seem to matter for extraction.\n",
    "\n",
    "Parsing the script is quite easy, which makes sense for a 90s game. It is somewhat interesting that the operations are stored as strings. The operation \"size\" is first, followed by the argument count (which includes the operation name), and then the entire operation and it's arguments in string-form, delimited with a zero-character."
   ]
  },
  {
   "cell_type": "code",
   "execution_count": 2,
   "metadata": {},
   "outputs": [],
   "source": [
    "iter_offset = iter(offsets.values())\n",
    "script_data = data[next(iter_offset) : next(iter_offset)]\n",
    "\n",
    "offset = 0\n",
    "script = []\n",
    "while True:\n",
    "    (size,) = unpack_from(\"<I\", script_data, offset)\n",
    "    offset += 4\n",
    "\n",
    "    # end of script\n",
    "    if size == 0:\n",
    "        break\n",
    "\n",
    "    (arg_count,) = unpack_from(\"<I\", script_data, offset)\n",
    "    offset += 4\n",
    "\n",
    "    operation = script_data[offset : offset + size].decode(\"ascii\")\n",
    "    offset += size\n",
    "    assert arg_count == operation.count(\"\\0\")\n",
    "    assert operation.endswith(\"\\0\")\n",
    "    script.append(operation.rstrip(\"\\0\"))"
   ]
  },
  {
   "cell_type": "markdown",
   "metadata": {},
   "source": [
    "Time to put it all together then. I'm also going to dump out all the operations, to make it easy to see which ones need implementing."
   ]
  },
  {
   "cell_type": "code",
   "execution_count": 3,
   "metadata": {},
   "outputs": [],
   "source": [
    "import json\n",
    "\n",
    "\n",
    "operations = set()\n",
    "\n",
    "\n",
    "def parse_script(data, offset):\n",
    "    script = []\n",
    "    while True:\n",
    "        (size,) = unpack_from(\"<I\", data, offset)\n",
    "        offset += 4\n",
    "\n",
    "        # end of script\n",
    "        if size == 0:\n",
    "            break\n",
    "\n",
    "        (arg_count,) = unpack_from(\"<I\", data, offset)\n",
    "        offset += 4\n",
    "\n",
    "        operation = data[offset : offset + size].decode(\"ascii\")\n",
    "        offset += size\n",
    "        assert arg_count == operation.count(\"\\0\")\n",
    "        assert operation.endswith(\"\\0\")\n",
    "        script.append(operation.rstrip(\"\\0\"))\n",
    "        operations.add((operation.split(\"\\0\")[0], arg_count - 1))\n",
    "\n",
    "    return script\n",
    "\n",
    "\n",
    "def parse_interp(data):\n",
    "    signature, seven, count = unpack_from(\"<3I\", data, 0)\n",
    "    assert signature == 0x08971119, signature\n",
    "    assert seven == 7, seven\n",
    "\n",
    "    scripts = {}\n",
    "    for i in range(count):\n",
    "        raw_name, offset = unpack_from(\"<120s4xI\", data, 3 * 4 + i * 128)\n",
    "        name = raw_name.rstrip(b\"\\0\").decode(\"ascii\")\n",
    "        scripts[name] = parse_script(data, offset)\n",
    "    return scripts\n",
    "\n",
    "\n",
    "base_path = Path.cwd() / \"interp\"\n",
    "for path in Path(\"install\").rglob(\"interp.zbd\"):\n",
    "    json_path = base_path / f\"{path.parent.parent.name}.json\"\n",
    "    with json_path.open(\"w\", encoding=\"utf-8\") as f:\n",
    "        json.dump(parse_interp(path.read_bytes()), f, indent=2)\n",
    "\n",
    "json_path = base_path / \"operations.json\"\n",
    "with json_path.open(\"w\", encoding=\"utf-8\") as f:\n",
    "    json.dump(sorted(operations, key=lambda op: op[0]), f, indent=2)"
   ]
  },
  {
   "cell_type": "markdown",
   "metadata": {},
   "source": [
    "Well, that was nice and easy for once. Of course, there's a lot of interesting information in these files. And for implementing an interpreter, this would just be the beginning. Still, this is all that's needed for preservation, so I'll move on."
   ]
  },
  {
   "cell_type": "markdown",
   "metadata": {},
   "source": [
    "## Next up\n",
    "\n",
    "Next up would be the `anim.zbd`, or `gamez.zbd` files. However, I haven't made too much progress on these yet. This is a shame, it would be great to be able to extract the maps. Stay tuned!"
   ]
  },
  {
   "cell_type": "code",
   "execution_count": null,
   "metadata": {},
   "outputs": [],
   "source": []
  }
 ],
 "metadata": {
  "kernelspec": {
   "display_name": "Python 3",
   "language": "python",
   "name": "python3"
  },
  "language_info": {
   "codemirror_mode": {
    "name": "ipython",
    "version": 3
   },
   "file_extension": ".py",
   "mimetype": "text/x-python",
   "name": "python",
   "nbconvert_exporter": "python",
   "pygments_lexer": "ipython3",
   "version": "3.7.7"
  }
 },
 "nbformat": 4,
 "nbformat_minor": 2
}

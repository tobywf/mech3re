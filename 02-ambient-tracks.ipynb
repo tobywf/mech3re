{
 "cells": [
  {
   "cell_type": "markdown",
   "metadata": {},
   "source": [
    "# Ambient Tracks\n",
    "\n",
    "## Extraction\n",
    "\n",
    "When I inserted the Mechwarrior 3 CD into a Windows PC, this message was shown:\n",
    "\n",
    "![Select to choose what happens with enhanced audio CDs.](screenshot/enhanced-audio-cd.png)\n",
    "\n",
    "And [enhanced audio CD](https://en.wikipedia.org/wiki/Enhanced_CD) usually means there is data and audio on the same disk. In fact there are two ambient/background tracks, roughly three minutes earch. Using [ExactAudioCopy](http://www.exactaudiocopy.de/) (EAC)\\*, I ripped the tracks from US versions 1.0, 1.1, and 1.2, as well as German version 1.0 as Waveform Audio files (`*.wav`). This was mainly to make comparisons easier, but that didn't work out, as we will see. So I'd recommend compressing them using a lossy format like [AAC](https://en.wikipedia.org/wiki/Advanced_Audio_Coding) - a bitrate of 128 kilobytes should be plenty for ambient tracks. This produces file sizes around 3 MiB, so 10% of the original. (Lossless compression like [FLAC](https://xiph.org/flac/) produces ~40%.)\n",
    "\n",
    "---\n",
    "\n",
    "\\* EAC is Windows only. Options on macOS are [RIP](https://sbooth.org/Rip/), [Max](https://sbooth.org/Max/), [XLD](https://tmkk.undo.jp/xld/index_e.html), or iTunes. There are *many* options on Linux, I suggest [Morituri](https://github.com/thomasvs/morituri)."
   ]
  },
  {
   "cell_type": "markdown",
   "metadata": {},
   "source": [
    "## Next up\n",
    "\n",
    "Skip over comparing the different MechWarrior 3 versions to [video files/cinematics](03-video-files.ipynb)"
   ]
  },
  {
   "cell_type": "markdown",
   "metadata": {},
   "source": [
    "## Version comparison\n",
    "\n",
    "Sadly, I could already see during the rip that comparison was going to be a bit trickier, since all the tracks had different [CRC](https://en.wikipedia.org/wiki/Cyclic_redundancy_check) codes. Another oddity is the fact the tracks aren't in the same order on different versions, or even the same lengths:\n",
    "\n",
    "| Version | Track 2 | Track 3 |\n",
    "|---------|---------|---------|\n",
    "| v1.0 US | 3:11.69 | 3:06.06 |\n",
    "| v1.0 DE | 3:06.06 | 3:13.69 |\n",
    "| v1.1 US | 3:06.06 | 3:11.69 |\n",
    "| v1.2 US | 3:06.06 | 3:11.69 |\n",
    "\n",
    "They all sound indistinguishable for me, and the waveforms look the same, so it's probably fine. I'm unsure why this is though. It's most likely the result of the manufacturing process, but it could be deliberate DRM (specifically the German version uses Macrovision's SafeDisc DRM).\n",
    "\n",
    "![A waveform plot of the shorter tracks, showing virtually indistinguishable waveforms. The data was resampled, but the amplitude is not re-normalised, so appears slightly quieter](analysis/audio-tracks-shorter.png)\n",
    "\n",
    "![A waveform plot of the longer tracks, showing virtually indistinguishable waveforms. The data was resampled, but the amplitude is not re-normalised, so appears slightly quieter](analysis/audio-tracks-longer.png)"
   ]
  },
  {
   "cell_type": "markdown",
   "metadata": {},
   "source": [
    "## How the waveform plots were made\n",
    "\n",
    "While [LibROSA](http://librosa.github.io/librosa/) is a great library, I've decided to rely only on [SciPy](https://www.scipy.org/), since it [can also read WAV files](https://docs.scipy.org/doc/scipy/reference/generated/scipy.io.wavfile.read.html)."
   ]
  },
  {
   "cell_type": "code",
   "execution_count": 2,
   "metadata": {},
   "outputs": [],
   "source": [
    "import numpy as np\n",
    "from scipy.io import wavfile\n",
    "from scipy.signal import resample\n",
    "\n",
    "import matplotlib\n",
    "import matplotlib.pyplot as plt\n",
    "import matplotlib.ticker as ticker\n",
    "\n",
    "\n",
    "def time_ticker_format(x, pos=None):\n",
    "    mins, secs = divmod(x, 60)\n",
    "    return \"{:.0f}:{:02.0f}\".format(abs(mins), secs)\n",
    "\n",
    "\n",
    "def plot_waveforms(tracks, save_name=None, resample_factor=40):\n",
    "    \"\"\"This function makes assumptions about the input data: stereo 44100 Hz 16-bit signed PCM\"\"\"\n",
    "    data = []\n",
    "    rates = []\n",
    "    for track in tracks:\n",
    "        rate, stereo = wavfile.read(track, mmap=True)\n",
    "        samples, channels = stereo.shape\n",
    "        assert channels == 2, \"expecting stereo\"\n",
    "        mono = stereo.mean(1)\n",
    "        # this is to make the data more resonable to plot\n",
    "        resampled = resample(mono, int(np.ceil(mono.size / resample_factor)))\n",
    "        data.append(resampled)\n",
    "        rates.append(rate)\n",
    "\n",
    "    rate = rates[0]\n",
    "    assert all(rate == r for r in rates)\n",
    "\n",
    "    count = len(tracks)\n",
    "    fig, axis = plt.subplots(count, 1, figsize=(16, 4 * count))\n",
    "\n",
    "    for ax, mono, name in zip(axis, data, tracks):\n",
    "        samples = mono.size\n",
    "        length = samples / rate\n",
    "        time = np.linspace(0, length, num=samples)\n",
    "\n",
    "        ax.plot(time, mono)\n",
    "        ax.set_xlim(0, length)\n",
    "        ax.xaxis.set_major_formatter(ticker.FuncFormatter(time_ticker_format))\n",
    "        ax.xaxis.set_major_locator(ticker.MultipleLocator(20))\n",
    "        ax.set_ylim(-(1 << 15), (1 << 15))  # signed 16-bit\n",
    "        ax.yaxis.set_major_locator(ticker.NullLocator())\n",
    "        ax.xaxis.set_label_text(name)\n",
    "\n",
    "    fig.tight_layout()\n",
    "    if save_name:\n",
    "        plt.savefig(save_name)\n",
    "        plt.close(fig)"
   ]
  },
  {
   "cell_type": "code",
   "execution_count": 3,
   "metadata": {},
   "outputs": [],
   "source": [
    "# WARNING: can take a while to process (a minute or two)\n",
    "plot_waveforms(\n",
    "    [\n",
    "        \"audio/v1.0-us/03 Track03.wav\",\n",
    "        \"audio/v1.0-de/02 Track02.wav\",\n",
    "        \"audio/v1.1-us/02 Track02.wav\",\n",
    "        \"audio/v1.2-us/02 Track02.wav\",\n",
    "    ],\n",
    "    \"analysis/audio-tracks-shorter.png\",\n",
    ")"
   ]
  },
  {
   "cell_type": "code",
   "execution_count": 4,
   "metadata": {},
   "outputs": [],
   "source": [
    "# WARNING: can take a while to process (a minute or two)\n",
    "plot_waveforms(\n",
    "    [\n",
    "        \"audio/v1.0-us/02 Track02.wav\",\n",
    "        \"audio/v1.0-de/03 Track03.wav\",\n",
    "        \"audio/v1.1-us/03 Track03.wav\",\n",
    "        \"audio/v1.2-us/03 Track03.wav\",\n",
    "    ],\n",
    "    \"analysis/audio-tracks-longer.png\",\n",
    ")"
   ]
  },
  {
   "cell_type": "markdown",
   "metadata": {},
   "source": [
    "## Next up\n",
    "\n",
    "[Video files/cinematics](03-video-files.ipynb)"
   ]
  },
  {
   "cell_type": "code",
   "execution_count": null,
   "metadata": {},
   "outputs": [],
   "source": []
  }
 ],
 "metadata": {
  "kernelspec": {
   "display_name": "Python 3",
   "language": "python",
   "name": "python3"
  },
  "language_info": {
   "codemirror_mode": {
    "name": "ipython",
    "version": 3
   },
   "file_extension": ".py",
   "mimetype": "text/x-python",
   "name": "python",
   "nbconvert_exporter": "python",
   "pygments_lexer": "ipython3",
   "version": "3.7.7"
  }
 },
 "nbformat": 4,
 "nbformat_minor": 2
}

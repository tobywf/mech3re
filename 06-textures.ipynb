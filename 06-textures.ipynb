{
 "cells": [
  {
   "cell_type": "markdown",
   "metadata": {},
   "source": [
    "# Texture archives\n",
    "\n",
    "Sticking to the game plan, the textures had a lot of overlap between patches. Lower file size can be easier to handle. `rimage.zbd` clocks in at 39 MiB, `rmechtex.zbd` at 31 MiB, and `rmechtex16.zbd` and `rmechtexs.zbd` at 8.8 MiB. Hmm, now that's interesting. They do differ in contents, and I'm not sure why they'd be the same, but this is a good indication that there is no texture compression (the odds would be astronomical). Some of the campaign folders also have textures, which I can also check.\n",
    "\n",
    "Now, what's the chance it's the same archive format as for the sounds?"
   ]
  },
  {
   "cell_type": "code",
   "execution_count": 1,
   "metadata": {},
   "outputs": [
    {
     "data": {
      "text/plain": [
       "(1388989033, 1384663720)"
      ]
     },
     "execution_count": 1,
     "metadata": {},
     "output_type": "execute_result"
    }
   ],
   "source": [
    "from pathlib import Path\n",
    "from struct import unpack_from, Struct\n",
    "\n",
    "path = Path(\"install/v1.0-us-post/zbd/rmechtexs.zbd\")\n",
    "data = path.read_bytes()\n",
    "\n",
    "unpack_from(\"<2I\", data, len(data) - 8)"
   ]
  },
  {
   "cell_type": "markdown",
   "metadata": {},
   "source": [
    "Booo! Looks like a new archive format, so starting from scratch."
   ]
  },
  {
   "cell_type": "code",
   "execution_count": 2,
   "metadata": {},
   "outputs": [
    {
     "data": {
      "text/plain": [
       "b'\\x00\\x00\\x00\\x00\\x01\\x00\\x00\\x00\\x00\\x00\\x00\\x00\\xee\\x08\\x00\\x00\\x00\\x00\\x00\\x00\\x00\\x00\\x00\\x00annihila'"
      ]
     },
     "execution_count": 2,
     "metadata": {},
     "output_type": "execute_result"
    }
   ],
   "source": [
    "data[:32]"
   ]
  },
  {
   "cell_type": "markdown",
   "metadata": {},
   "source": [
    "Always good to see strings. That string is at position 24. And before that looks like 4 byte (32 bit) integers, so 24 / 4 = 6 of them:"
   ]
  },
  {
   "cell_type": "code",
   "execution_count": 3,
   "metadata": {},
   "outputs": [
    {
     "data": {
      "text/plain": [
       "(0, 1, 0, 2286, 0, 0, b'annihila')"
      ]
     },
     "execution_count": 3,
     "metadata": {},
     "output_type": "execute_result"
    }
   ],
   "source": [
    "unpack_from(\"<6I8s\", data, 0)"
   ]
  },
  {
   "cell_type": "markdown",
   "metadata": {},
   "source": [
    "That's better!"
   ]
  },
  {
   "cell_type": "code",
   "execution_count": 4,
   "metadata": {},
   "outputs": [
    {
     "name": "stdout",
     "output_type": "stream",
     "text": [
      "install/v1.0-us-post/zbd/rmechtex.zbd\t(0, 1, 0, 3360, 0, 0, b'annihi_d')\n",
      "install/v1.0-us-post/zbd/rmechtex16.zbd\t(0, 1, 0, 2286, 0, 0, b'annihila')\n",
      "install/v1.0-us-post/zbd/rmechtexs.zbd\t(0, 1, 0, 2286, 0, 0, b'annihila')\n"
     ]
    }
   ],
   "source": [
    "zbd = Path(\"install/v1.0-us-post/zbd\")\n",
    "\n",
    "s1 = Struct(\"<6I8s\")\n",
    "\n",
    "for tex_path in zbd.rglob(\"rmechtex*.zbd\"):\n",
    "    with tex_path.open(\"rb\") as f:\n",
    "        print(tex_path, s1.unpack_from(f.read(s1.size), 0), sep=\"\\t\")"
   ]
  },
  {
   "cell_type": "markdown",
   "metadata": {},
   "source": [
    "OK, great, it holds. Digging deeper."
   ]
  },
  {
   "cell_type": "code",
   "execution_count": 5,
   "metadata": {},
   "outputs": [
    {
     "data": {
      "text/plain": [
       "b'annihilator01\\x00\\x00\\x00\\x00\\x00\\x00\\x00\\x00\\x00\\x00\\x00\\x00\\x00\\x00\\x00\\x00\\x00\\x00\\x00He\\x01\\x00\\xff\\xff\\xff\\xffannihilator01_b\\x00\\x00\\x00\\x00\\x00\\x00\\x00\\x00\\x00\\x00\\x00\\x00\\x00\\x00\\x00\\x00\\x00X\\x85\\x01\\x00\\xff\\xff\\xff\\xffannihilator01_c\\x00\\x00\\x00\\x00\\x00\\x00\\x00\\x00\\x00'"
      ]
     },
     "execution_count": 5,
     "metadata": {},
     "output_type": "execute_result"
    }
   ],
   "source": [
    "data[24:128]"
   ]
  },
  {
   "cell_type": "code",
   "execution_count": 6,
   "metadata": {},
   "outputs": [
    {
     "data": {
      "text/plain": [
       "(b'annihilator01\\x00\\x00\\x00\\x00\\x00\\x00\\x00\\x00\\x00\\x00\\x00\\x00\\x00\\x00\\x00\\x00\\x00\\x00\\x00He\\x01\\x00\\xff\\xff\\xff\\xff',\n",
       " b'annihilator01_b\\x00\\x00\\x00\\x00\\x00\\x00\\x00\\x00\\x00\\x00\\x00\\x00\\x00\\x00\\x00\\x00\\x00X\\x85\\x01\\x00\\xff\\xff\\xff\\xff')"
      ]
     },
     "execution_count": 6,
     "metadata": {},
     "output_type": "execute_result"
    }
   ],
   "source": [
    "data[24 : 24 + 40], data[24 + 40 : 24 + 40 * 2]"
   ]
  },
  {
   "cell_type": "markdown",
   "metadata": {},
   "source": [
    "Zero-terminated strings of a fixed length. Record size of 40. Wonder if that fourth integer is the record count?"
   ]
  },
  {
   "cell_type": "code",
   "execution_count": 7,
   "metadata": {
    "scrolled": false
   },
   "outputs": [
    {
     "name": "stdout",
     "output_type": "stream",
     "text": [
      "annihilator01 annihilator01_b annihilator01_c annihilator01_d annihilator01_e vulture_317_f vulture_317_g vulture_317_h weap_hole "
     ]
    }
   ],
   "source": [
    "header = unpack_from(\"<6I\", data, 0)\n",
    "count = header[3]\n",
    "\n",
    "offset = 24\n",
    "for i in range(count):\n",
    "    name = data[offset : offset + 32].rstrip(b\"\\0\").decode(\"ascii\")\n",
    "    # Compress this a bit to avoid spam\n",
    "    if i < 5 or i > count - 5:\n",
    "        print(name, end=\" \")\n",
    "    offset += 40"
   ]
  },
  {
   "cell_type": "markdown",
   "metadata": {},
   "source": [
    "Not bad. So, we have 8 bytes left per record. However, the last 4 bytes seem to be 0xFFFFFFFF. Hopefully, the other value is an offset for more data?"
   ]
  },
  {
   "cell_type": "code",
   "execution_count": 8,
   "metadata": {},
   "outputs": [
    {
     "name": "stdout",
     "output_type": "stream",
     "text": [
      "9195544 9195816 272\n"
     ]
    }
   ],
   "source": [
    "record = Struct(\"<32s2I\")\n",
    "data_size = len(data)\n",
    "\n",
    "offset = 24\n",
    "prev = 0\n",
    "for i in range(count):\n",
    "    name, start, magic = record.unpack_from(data, offset)\n",
    "    assert magic == 0xFFFFFFFF  # see if it's constant\n",
    "    assert start < data_size\n",
    "    assert start > prev  # see if it's ordered\n",
    "    prev = start\n",
    "    offset += record.size\n",
    "    name = name.rstrip(b\"\\0\").decode(\"ascii\")\n",
    "print(prev, data_size, data_size - prev)"
   ]
  },
  {
   "cell_type": "markdown",
   "metadata": {},
   "source": [
    "272 is pretty small for a texture. Maybe \"weapon hole\" is a small impact texture? So one assumption could be that the data goes all the way to the end of the file. I'm not sure why they didn't use the `magic` value to store the length of each texture (or the end offset), but we can fill in the blanks based on `start` of the previous item:"
   ]
  },
  {
   "cell_type": "code",
   "execution_count": 9,
   "metadata": {},
   "outputs": [],
   "source": [
    "offset = 24\n",
    "items = []\n",
    "for i in range(count):\n",
    "    name, start, magic = record.unpack_from(data, offset)\n",
    "    assert magic == 0xFFFFFFFF\n",
    "    offset += record.size\n",
    "    name = name.rstrip(b\"\\0\").decode(\"ascii\")\n",
    "    items.append((name, start))\n",
    "items.append((None, data_size))\n",
    "\n",
    "textures = {}\n",
    "for i in range(count):\n",
    "    name, start = items[i]\n",
    "    _, end = items[i + 1]\n",
    "    if name in textures:\n",
    "        print(\"dupe\", name)\n",
    "    textures[name] = data[start:end]"
   ]
  },
  {
   "cell_type": "markdown",
   "metadata": {},
   "source": [
    "Excellent. So I'm thinking it would be worth finding out if the texture data have some common lengths. It's already likely they aren't compressed, but the lengths can help determine the structure."
   ]
  },
  {
   "cell_type": "code",
   "execution_count": 10,
   "metadata": {},
   "outputs": [
    {
     "data": {
      "text/plain": [
       "{272, 528, 1040, 2064, 3088, 4112, 8208, 16400}"
      ]
     },
     "execution_count": 10,
     "metadata": {},
     "output_type": "execute_result"
    }
   ],
   "source": [
    "unique_lengths = {len(texture) for texture in textures.values()}\n",
    "unique_lengths"
   ]
  },
  {
   "cell_type": "markdown",
   "metadata": {},
   "source": [
    "Based on this, there is definitely no compression (in this one). Another bit of information is none of those lengths are powers of two. Texture width and height were usually powers of two, for archaic performance reasons to do with fast multiplication and division of powers of two. But the textures need headers for e.g. dimensions, which we haven't found yet. And those values are awfully close to powers of two:\n",
    "\n",
    "* 528 - 512 = 16\n",
    "* 1040 - 1024 = 16\n",
    "* 2064 - 2048 = 16\n",
    "\n",
    "So the header size is 16 bytes, or 4x4 byte integers."
   ]
  },
  {
   "cell_type": "code",
   "execution_count": 11,
   "metadata": {},
   "outputs": [
    {
     "data": {
      "text/plain": [
       "{(5, 524304, 0, 0),\n",
       " (5, 1048584, 0, 0),\n",
       " (5, 1048592, 0, 0),\n",
       " (5, 1048608, 0, 0),\n",
       " (5, 1048640, 0, 0),\n",
       " (5, 2097160, 0, 0),\n",
       " (5, 2097168, 0, 0),\n",
       " (5, 2097184, 0, 0),\n",
       " (5, 2097216, 0, 0),\n",
       " (5, 2097280, 0, 0),\n",
       " (5, 4194320, 0, 0),\n",
       " (5, 4194336, 0, 0),\n",
       " (5, 4194368, 0, 0),\n",
       " (5, 4194432, 0, 0),\n",
       " (5, 8388624, 0, 0),\n",
       " (5, 8388640, 0, 0),\n",
       " (5, 8388672, 0, 0),\n",
       " (11, 1048640, 0, 0)}"
      ]
     },
     "execution_count": 11,
     "metadata": {},
     "output_type": "execute_result"
    }
   ],
   "source": [
    "{unpack_from(\"<4I\", texture, 0) for texture in textures.values()}"
   ]
  },
  {
   "cell_type": "markdown",
   "metadata": {},
   "source": [
    "That's good news, there's significant communality between the textures. But the header isn't quite right.\n",
    "\n",
    "Conjecture/rant time. So the second integer is probably two 2 byte integers (16 bit). But why? Ultimately, we might never know. Some file formats are just ported over from older projects. On the one hand, textures of the size 65535x65535 (the maximum 16 bit values) are ludicrously large for the 90s. But why encode them like that? Those 0xFFFFFFFF bytes on the records are also \"wasted\", and a record size of 40 is no more efficient to load than 36. It's all very odd.\n",
    "\n",
    "Anyway, this is where more data will help. Those zero fields could be set for textures in the other archives. But first, let's figure out if we can determine the dimensions. Come to think of it, this is probably why the length is not stored in the record table. If you know the header size and image data size, you can figure out how much data to load (although currently, we don't have quite enough information for that)."
   ]
  },
  {
   "cell_type": "code",
   "execution_count": 12,
   "metadata": {},
   "outputs": [
    {
     "data": {
      "text/plain": [
       "{(5, 8, 16, 0, 0, 0, 0),\n",
       " (5, 8, 32, 0, 0, 0, 0),\n",
       " (5, 16, 8, 0, 0, 0, 0),\n",
       " (5, 16, 16, 0, 0, 0, 0),\n",
       " (5, 16, 32, 0, 0, 0, 0),\n",
       " (5, 16, 64, 0, 0, 0, 0),\n",
       " (5, 16, 128, 0, 0, 0, 0),\n",
       " (5, 32, 16, 0, 0, 0, 0),\n",
       " (5, 32, 32, 0, 0, 0, 0),\n",
       " (5, 32, 64, 0, 0, 0, 0),\n",
       " (5, 32, 128, 0, 0, 0, 0),\n",
       " (5, 64, 16, 0, 0, 0, 0),\n",
       " (5, 64, 32, 0, 0, 0, 0),\n",
       " (5, 64, 64, 0, 0, 0, 0),\n",
       " (5, 64, 128, 0, 0, 0, 0),\n",
       " (5, 128, 32, 0, 0, 0, 0),\n",
       " (5, 128, 64, 0, 0, 0, 0),\n",
       " (11, 64, 16, 0, 0, 0, 0)}"
      ]
     },
     "execution_count": 12,
     "metadata": {},
     "output_type": "execute_result"
    }
   ],
   "source": [
    "{unpack_from(\"<I6H\", texture, 0) for texture in textures.values()}"
   ]
  },
  {
   "cell_type": "markdown",
   "metadata": {},
   "source": [
    "Dimensions: decoded. So usually, to figure out the size of the image data, you need width, height, and how many bytes per pixel (BPP) there are, aka. the bit depth. But since we already have the size, that means the BPP can be calculated."
   ]
  },
  {
   "cell_type": "code",
   "execution_count": 13,
   "metadata": {},
   "outputs": [
    {
     "data": {
      "text/plain": [
       "{2.0, 3.0}"
      ]
     },
     "execution_count": 13,
     "metadata": {},
     "output_type": "execute_result"
    }
   ],
   "source": [
    "bpp = set()\n",
    "for texture in textures.values():\n",
    "    _, width, height = unpack_from(\"<I2H\", texture, 0)\n",
    "    size = (\n",
    "        width * height\n",
    "    )  # this way, it doesn't matter if we get these the wrong way round\n",
    "    bytes_per_pixel = (len(texture) - 16) / size\n",
    "    bpp.add(bytes_per_pixel)\n",
    "bpp"
   ]
  },
  {
   "cell_type": "markdown",
   "metadata": {},
   "source": [
    "Two bit depths, and two values for the first integer? Suspicious..."
   ]
  },
  {
   "cell_type": "code",
   "execution_count": 14,
   "metadata": {},
   "outputs": [
    {
     "data": {
      "text/plain": [
       "{(5, 2.0), (11, 3.0)}"
      ]
     },
     "execution_count": 14,
     "metadata": {},
     "output_type": "execute_result"
    }
   ],
   "source": [
    "bpp = set()\n",
    "for texture in textures.values():\n",
    "    ident, width, height = unpack_from(\"<I2H\", texture, 0)\n",
    "    size = (\n",
    "        width * height\n",
    "    )  # this way, it doesn't matter if we get these the wrong way round\n",
    "    bytes_per_pixel = (len(texture) - 16) / size\n",
    "    bpp.add((ident, bytes_per_pixel))\n",
    "bpp"
   ]
  },
  {
   "cell_type": "markdown",
   "metadata": {},
   "source": [
    "Cool. So the first value corresponds to the image format. 3 bytes per pixel should be just RGB. 2 bytes per pixel is probably not palette-based, but instead [16-bit RGB](https://docs.microsoft.com/en-us/windows/win32/directshow/working-with-16-bit-rgb), which can be encoded as 5 bits per component (highest bit ignored), or RGB 565. Luckily, I have some of the most advanced image decoding instruments on the planet - eyes. Let's find a texture with the format \"5\". Because the way the data is stored (little endian), it's possible find a matching texture without decoding the header:"
   ]
  },
  {
   "cell_type": "code",
   "execution_count": 15,
   "metadata": {},
   "outputs": [
    {
     "data": {
      "text/plain": [
       "'annihilator01'"
      ]
     },
     "execution_count": 15,
     "metadata": {},
     "output_type": "execute_result"
    }
   ],
   "source": [
    "next(name for name, texture in textures.items() if texture[0] == 5)"
   ]
  },
  {
   "cell_type": "markdown",
   "metadata": {},
   "source": [
    "First, a little sanity check though. If the image is displayed in 8-bit grey scale, with 16-bit RGB you'd expect to get a jumbled mess since the pixel data doesn't align to 8-bit boundaries. Since it's 2 BPP, one dimension has to be stretched. Logically, if each pixel is 2 bytes, stretching width-wise makes sense. But I'll do both here just to check if some structure becomes apparent with the width preserved."
   ]
  },
  {
   "cell_type": "code",
   "execution_count": 16,
   "metadata": {},
   "outputs": [
    {
     "data": {
      "image/png": "[encoded data removed]",
      "text/plain": [
       "<IPython.core.display.Image object>"
      ]
     },
     "metadata": {
      "image/png": {
       "width": "250px"
      }
     },
     "output_type": "display_data"
    },
    {
     "data": {
      "image/png": "[encoded data removed]",
      "text/plain": [
       "<IPython.core.display.Image object>"
      ]
     },
     "metadata": {
      "image/png": {
       "width": "125px"
      }
     },
     "output_type": "display_data"
    }
   ],
   "source": [
    "from helpers import display_image\n",
    "from PIL import Image\n",
    "\n",
    "# hard-coded for repeatability\n",
    "texture = textures[\"annihilator01\"]\n",
    "ident, width, height = unpack_from(\"<I2H\", texture, 0)\n",
    "\n",
    "img = Image.frombytes(\"L\", (width * 2, height), texture[16:])\n",
    "display_image(img, width=\"250px\")\n",
    "img = Image.frombytes(\"L\", (width, height * 2), texture[16:])\n",
    "display_image(img, width=\"125px\")"
   ]
  },
  {
   "cell_type": "code",
   "execution_count": 17,
   "metadata": {},
   "outputs": [
    {
     "data": {
      "image/png": "[encoded data removed]",
      "text/plain": [
       "<IPython.core.display.Image object>"
      ]
     },
     "metadata": {
      "image/png": {
       "width": "500px"
      }
     },
     "output_type": "display_data"
    }
   ],
   "source": [
    "size = width * height\n",
    "pixels = unpack_from(f\"<{size}H\", texture, 16)\n",
    "\n",
    "\n",
    "def rgb15_to_24(pixels):\n",
    "    for pixel in pixels:\n",
    "        yield ((pixel >> 10) & 0b11111) << 3\n",
    "        yield ((pixel >> 5) & 0b11111) << 3\n",
    "        yield ((pixel >> 0) & 0b11111) << 3\n",
    "\n",
    "\n",
    "def rgb16_to_24(pixels):\n",
    "    for pixel in pixels:\n",
    "        yield ((pixel >> 11) & 0b11111) << 3\n",
    "        yield ((pixel >> 5) & 0b111111) << 2\n",
    "        yield ((pixel >> 0) & 0b11111) << 3\n",
    "\n",
    "\n",
    "compare = Image.new(\"RGB\", (width * 2, height))\n",
    "for i, decode_fn in enumerate([rgb15_to_24, rgb16_to_24]):\n",
    "    img = Image.frombytes(\"RGB\", (width, height), bytes(decode_fn(pixels)))\n",
    "    compare.paste(img, (width * i, 0))\n",
    "display_image(compare, width=\"500px\")"
   ]
  },
  {
   "cell_type": "markdown",
   "metadata": {},
   "source": [
    "Decoding as RGB 555 has some artefacts. RGB 565 looks perfect! One more thing: using a non-square image to check if it's (width, height) or (height, width). Because so far, the code has been agnostic."
   ]
  },
  {
   "cell_type": "code",
   "execution_count": 18,
   "metadata": {},
   "outputs": [
    {
     "data": {
      "text/plain": [
       "'annihilator06'"
      ]
     },
     "execution_count": 18,
     "metadata": {},
     "output_type": "execute_result"
    }
   ],
   "source": [
    "def rgb16_not_square(texture):\n",
    "    ident, width, height = unpack_from(\"<I2H\", texture, 0)\n",
    "    return ident == 5 and width != height\n",
    "\n",
    "\n",
    "next(name for name, texture in textures.items() if rgb16_not_square(texture))"
   ]
  },
  {
   "cell_type": "code",
   "execution_count": 19,
   "metadata": {},
   "outputs": [
    {
     "data": {
      "image/png": "[encoded data removed]",
      "text/plain": [
       "<IPython.core.display.Image object>"
      ]
     },
     "metadata": {
      "image/png": {
       "width": "250px"
      }
     },
     "output_type": "display_data"
    },
    {
     "data": {
      "image/png": "[encoded data removed]",
      "text/plain": [
       "<IPython.core.display.Image object>"
      ]
     },
     "metadata": {
      "image/png": {
       "width": "125px"
      }
     },
     "output_type": "display_data"
    }
   ],
   "source": [
    "# hard-coded for repeatability\n",
    "texture = textures[\"annihilator06\"]\n",
    "ident, width, height = unpack_from(\"<I2H\", texture, 0)\n",
    "size = width * height\n",
    "\n",
    "pixels = unpack_from(f\"<{size}H\", texture, 16)\n",
    "\n",
    "img = Image.frombytes(\"RGB\", (width, height), bytes(rgb16_to_24(pixels)))\n",
    "display_image(img, width=\"250px\")\n",
    "\n",
    "img = Image.frombytes(\"RGB\", (height, width), bytes(rgb16_to_24(pixels)))\n",
    "display_image(img, width=\"125px\")"
   ]
  },
  {
   "cell_type": "markdown",
   "metadata": {},
   "source": [
    "I know which one I prefer. Next format please! This should be easy, right? 3 BPP must be RGB!"
   ]
  },
  {
   "cell_type": "code",
   "execution_count": 20,
   "metadata": {},
   "outputs": [
    {
     "data": {
      "text/plain": [
       "'stump_damage02'"
      ]
     },
     "execution_count": 20,
     "metadata": {},
     "output_type": "execute_result"
    }
   ],
   "source": [
    "name = next(name for name, texture in textures.items() if texture[0] == 11)\n",
    "name"
   ]
  },
  {
   "cell_type": "code",
   "execution_count": 21,
   "metadata": {},
   "outputs": [
    {
     "data": {
      "image/png": "[encoded data removed]",
      "text/plain": [
       "<IPython.core.display.Image object>"
      ]
     },
     "metadata": {
      "image/png": {
       "width": "500px"
      }
     },
     "output_type": "display_data"
    }
   ],
   "source": [
    "texture = textures[\"stump_damage02\"]\n",
    "ident, width, height = unpack_from(\"<I2H\", texture, 0)\n",
    "size = width * height\n",
    "img = Image.frombytes(\"RGB\", (width, height), texture[16:])\n",
    "display_image(img, width=\"500px\")"
   ]
  },
  {
   "cell_type": "markdown",
   "metadata": {},
   "source": [
    "Oh. But the 3 BPP is too perfect, there must be some kind of structure. As before, let's see if grey scale shows anything."
   ]
  },
  {
   "cell_type": "code",
   "execution_count": 22,
   "metadata": {},
   "outputs": [
    {
     "data": {
      "image/png": "[encoded data removed]",
      "text/plain": [
       "<IPython.core.display.Image object>"
      ]
     },
     "metadata": {
      "image/png": {
       "width": "750px"
      }
     },
     "output_type": "display_data"
    },
    {
     "data": {
      "image/png": "[encoded data removed]",
      "text/plain": [
       "<IPython.core.display.Image object>"
      ]
     },
     "metadata": {
      "image/png": {
       "width": "250px"
      }
     },
     "output_type": "display_data"
    }
   ],
   "source": [
    "img = Image.frombytes(\"L\", (width * 3, height), texture[16:])\n",
    "display_image(img, width=\"750px\")\n",
    "img = Image.frombytes(\"L\", (width, height * 3), texture[16:])\n",
    "display_image(img, width=\"250px\")"
   ]
  },
  {
   "cell_type": "markdown",
   "metadata": {},
   "source": [
    "Okay, this is highly interesting. The first 2/3 again looks like a jumbled mess, which suggests 16-bit RGB. But the last 1/3 looks sensible. This suggests an 8-bit grey scale image, most likely an alpha channel."
   ]
  },
  {
   "cell_type": "code",
   "execution_count": 23,
   "metadata": {},
   "outputs": [
    {
     "data": {
      "image/png": "[encoded data removed]",
      "text/plain": [
       "<IPython.core.display.Image object>"
      ]
     },
     "metadata": {
      "image/png": {
       "width": "250px"
      }
     },
     "output_type": "display_data"
    }
   ],
   "source": [
    "pixels = unpack_from(f\"<{size}H\", texture, 16)\n",
    "\n",
    "img = Image.frombytes(\"RGB\", (width, height), bytes(rgb16_to_24(pixels)))\n",
    "alpha = Image.frombytes(\"L\", (width, height), texture[16 + size * 2 :])\n",
    "img.putalpha(alpha)\n",
    "display_image(img, width=\"250px\")"
   ]
  },
  {
   "cell_type": "code",
   "execution_count": 24,
   "metadata": {},
   "outputs": [
    {
     "data": {
      "image/png": "[encoded data removed]",
      "text/plain": [
       "<IPython.core.display.Image object>"
      ]
     },
     "metadata": {
      "image/png": {
       "width": "250px"
      }
     },
     "output_type": "display_data"
    }
   ],
   "source": [
    "red = Image.new(\"RGBA\", img.size, color=(255, 0, 0))\n",
    "display_image(Image.alpha_composite(red, img), width=\"250px\")"
   ]
  },
  {
   "cell_type": "markdown",
   "metadata": {},
   "source": [
    "It isn't the clearest example, but looks like an alpha channel to me, and one that is not pre-multiplied. Mechwarrior 3 used DirextX 6, which still used DirectDraw to load textures. Alpha channels could have various bit depths, so why did they use the full 8 bits? (As an exercise, you can quantise/reduce the alpha channel bit depth by e.g. masking the lower bits. To me, 4 bits looks as good as 8 bits.)\n",
    "\n",
    "Anyway, it doesn't matter. We have a way of decoding all the images in this file, let's see what the other files yield. I'm again calculating start and end, since if any unknown image formats are in there, I can't yet calculate the expected data size.\n",
    "\n",
    "But which header to look at next?"
   ]
  },
  {
   "cell_type": "code",
   "execution_count": 25,
   "metadata": {},
   "outputs": [],
   "source": [
    "zbd_header = Struct(\"<6I\")\n",
    "tex_record = Struct(\"<32s2I\")\n",
    "tex_header = Struct(\"<I6H\")\n",
    "\n",
    "\n",
    "def read_textures(data):\n",
    "    z1, one, z2, count, z3, z4 = zbd_header.unpack_from(data, 0)\n",
    "    assert z1 == 0, \"z1\"\n",
    "    assert z2 == 0, \"z2\"\n",
    "    assert z3 == 0, \"z3\"\n",
    "    assert z4 == 0, \"z4\"\n",
    "    assert one == 1, \"one\"\n",
    "\n",
    "    items = []\n",
    "    offset = zbd_header.size\n",
    "    for i in range(count):\n",
    "        name, start, magic = tex_record.unpack_from(data, offset)\n",
    "        assert magic == 0xFFFFFFFF  # see if it's constant\n",
    "        name = name.rstrip(b\"\\0\").decode(\"ascii\")\n",
    "        items.append((name, start))\n",
    "        offset += tex_record.size\n",
    "    items.append((None, len(data)))\n",
    "\n",
    "    textures = {}\n",
    "    for i in range(count):\n",
    "        name, start = items[i]\n",
    "        _, end = items[i + 1]\n",
    "        if name in textures:\n",
    "            print(\"dupe\", name)\n",
    "        texture = data[start:end]\n",
    "        header = tex_header.unpack_from(texture, 0)\n",
    "        textures[name] = (header, texture[tex_header.size :])\n",
    "\n",
    "    return textures"
   ]
  },
  {
   "cell_type": "code",
   "execution_count": 26,
   "metadata": {
    "scrolled": true
   },
   "outputs": [
    {
     "name": "stdout",
     "output_type": "stream",
     "text": [
      "install/v1.0-us-post/zbd/rmechtexs.zbd {(5, 0, 0, 0, 0), (11, 0, 0, 0, 0)}\n",
      "install/v1.0-us-post/zbd/rmechtex.zbd {(5, 0, 0, 0, 0), (11, 0, 0, 0, 0)}\n",
      "install/v1.2-us-post/zbd/rmechtex.zbd {(5, 0, 0, 0, 0), (11, 0, 0, 0, 0)}\n",
      "install/v1.0-us-post/zbd/rmechtex16.zbd {(5, 0, 0, 0, 0), (11, 0, 0, 0, 0)}\n",
      "install/v1.0-us-post/zbd/rimage.zbd {(3, 0, 0, 0, 0), (5, 0, 0, 0, 0), (11, 0, 0, 0, 0)}\n"
     ]
    }
   ],
   "source": [
    "def header_set(path):\n",
    "    textures = read_textures(path.read_bytes())\n",
    "    print(path, {(header[0],) + header[3:] for header, _ in textures.values()})\n",
    "\n",
    "\n",
    "header_set(Path(\"install/v1.0-us-post/zbd/rmechtexs.zbd\"))\n",
    "header_set(Path(\"install/v1.0-us-post/zbd/rmechtex.zbd\"))\n",
    "header_set(Path(\"install/v1.2-us-post/zbd/rmechtex.zbd\"))\n",
    "header_set(Path(\"install/v1.0-us-post/zbd/rmechtex16.zbd\"))\n",
    "header_set(Path(\"install/v1.0-us-post/zbd/rimage.zbd\"))"
   ]
  },
  {
   "cell_type": "markdown",
   "metadata": {},
   "source": [
    "A new format! Usually, I'd pick the biggest image, but spoiler alert, this isn't the best strategy this time."
   ]
  },
  {
   "cell_type": "code",
   "execution_count": 27,
   "metadata": {},
   "outputs": [
    {
     "name": "stdout",
     "output_type": "stream",
     "text": [
      "brief_turret\n",
      "lab_arrow_left\n",
      "lab_arrow_left_red\n",
      "lab_arrow_right\n",
      "lab_arrow_right_red\n",
      "hud_zoomoff\n",
      "hud_zoomon\n",
      "hud_zoomover\n",
      "sensor_reticule\n",
      "wep_tag\n"
     ]
    }
   ],
   "source": [
    "path = Path(\"install/v1.0-us-post/zbd/rimage.zbd\")\n",
    "textures = read_textures(path.read_bytes())\n",
    "\n",
    "three = [name for name, (header, texture) in textures.items() if header[0] == 3]\n",
    "for name in three[:5] + three[-5:]:\n",
    "    print(name)"
   ]
  },
  {
   "cell_type": "code",
   "execution_count": 28,
   "metadata": {},
   "outputs": [
    {
     "name": "stdout",
     "output_type": "stream",
     "text": [
      "2.0\n"
     ]
    }
   ],
   "source": [
    "header, texture = textures[\"icon_bushwacker_green\"]\n",
    "width = header[1]\n",
    "height = header[2]\n",
    "size = width * height\n",
    "print(len(texture) / size)"
   ]
  },
  {
   "cell_type": "code",
   "execution_count": 29,
   "metadata": {
    "scrolled": true
   },
   "outputs": [
    {
     "data": {
      "image/png": "[encoded data removed]",
      "text/plain": [
       "<IPython.core.display.Image object>"
      ]
     },
     "metadata": {
      "image/png": {
       "width": "800px"
      }
     },
     "output_type": "display_data"
    }
   ],
   "source": [
    "names = (\n",
    "    \"icon_bushwacker_green\",\n",
    "    \"icon_bushwacker_grey\",\n",
    "    \"icon_bushwacker_red\",\n",
    "    \"icon_bushwacker_yellow\",\n",
    ")\n",
    "compose = Image.new(\"RGB\", (width * len(names), height))\n",
    "\n",
    "for i, name in enumerate(names):\n",
    "    _, texture = textures[name]\n",
    "    pixels = unpack_from(f\"<{size}H\", texture)\n",
    "    img = Image.frombytes(\"RGB\", (width, height), bytes(rgb16_to_24(pixels)))\n",
    "    compose.paste(img, (width * i, 0))\n",
    "display_image(compose, width=\"800px\")"
   ]
  },
  {
   "cell_type": "markdown",
   "metadata": {},
   "source": [
    "Well that was easy. The red one looks a bit off..."
   ]
  },
  {
   "cell_type": "code",
   "execution_count": 30,
   "metadata": {},
   "outputs": [
    {
     "data": {
      "image/png": "[encoded data removed]",
      "text/plain": [
       "<IPython.core.display.Image object>"
      ]
     },
     "metadata": {},
     "output_type": "display_data"
    }
   ],
   "source": [
    "header, texture = textures[\"hud_heat_bar\"]\n",
    "width = header[1]\n",
    "height = header[2]\n",
    "size = width * height\n",
    "pixels = unpack_from(f\"<{size}H\", texture)\n",
    "img = Image.frombytes(\"RGB\", (width, height), bytes(rgb16_to_24(pixels)))\n",
    "display_image(img)"
   ]
  },
  {
   "cell_type": "markdown",
   "metadata": {},
   "source": [
    "Then again, that looks perfect. So why the new format? Well, none of these have alpha, but the black values should clearly be transparent. It's just a guess, and could probably be done with a blending mode in software, but why not output beautiful `.png` files while we're here?"
   ]
  },
  {
   "cell_type": "code",
   "execution_count": 31,
   "metadata": {},
   "outputs": [
    {
     "data": {
      "image/png": "[encoded data removed]",
      "text/plain": [
       "<IPython.core.display.Image object>"
      ]
     },
     "metadata": {
      "image/png": {
       "width": "250px"
      }
     },
     "output_type": "display_data"
    },
    {
     "data": {
      "image/png": "[encoded data removed]",
      "text/plain": [
       "<IPython.core.display.Image object>"
      ]
     },
     "metadata": {
      "image/png": {
       "width": "250px"
      }
     },
     "output_type": "display_data"
    }
   ],
   "source": [
    "def rgb16_to_32(pixels):\n",
    "    for pixel in pixels:\n",
    "        yield ((pixel >> 11) & 0b11111) << 3\n",
    "        yield ((pixel >> 5) & 0b111111) << 2\n",
    "        yield ((pixel >> 0) & 0b11111) << 3\n",
    "        yield 255 if pixel else 0\n",
    "\n",
    "\n",
    "header, texture = textures[\"icon_bushwacker_green\"]\n",
    "width = header[1]\n",
    "height = header[2]\n",
    "size = width * height\n",
    "pixels = unpack_from(f\"<{size}H\", texture)\n",
    "img = Image.frombytes(\"RGBA\", (width, height), bytes(rgb16_to_32(pixels)))\n",
    "display_image(img, width=\"250px\")\n",
    "base = Image.new(\"RGBA\", (width, height), color=(128, 0, 0, 255))\n",
    "display_image(Image.alpha_composite(base, img), width=\"250px\")"
   ]
  },
  {
   "cell_type": "markdown",
   "metadata": {},
   "source": [
    "Not too shabby."
   ]
  },
  {
   "cell_type": "code",
   "execution_count": 32,
   "metadata": {},
   "outputs": [],
   "source": [
    "for tex_path in Path(\"install/v1.0-us-post/zbd\").rglob(\"*tex*.zbd\"):\n",
    "    textures = read_textures(tex_path.read_bytes())\n",
    "    # Commented out to avoid spam\n",
    "    # print(tex_path, {(header[0],) + header[3:] for header, _ in textures.values()})"
   ]
  },
  {
   "cell_type": "markdown",
   "metadata": {},
   "source": [
    "Yes, I get to decode the rest of the header! I'm more interested in the last value for now, so `c1/rtexture.zbd` is a good starting point. I'm also going to pick a format I understand somewhat."
   ]
  },
  {
   "cell_type": "code",
   "execution_count": 33,
   "metadata": {},
   "outputs": [
    {
     "name": "stdout",
     "output_type": "stream",
     "text": [
      "[('beach02', 1), ('c1conc03b', 1), ('c1conc04', 1), ('c1conc05', 1), ('sky01', 2), ('txsurf01', 1), ('txsurf02', 1), ('txsurf04', 1), ('txtrim01', 2), ('txtrim02', 2), ('txtrim04', 2), ('txwall01', 2), ('txwall06', 1), ('wave01', 1), ('wave02', 1), ('wave03', 1), ('wave04', 1), ('wave05', 1), ('wave06', 1), ('wave07', 1), ('wave08', 1), ('wave09', 1), ('wave10', 1), ('wave11', 1), ('wave12', 1), ('wave13', 1)]\n"
     ]
    }
   ],
   "source": [
    "path = Path(\"install/v1.0-us-post/zbd/c1/rtexture.zbd\")\n",
    "textures = read_textures(path.read_bytes())\n",
    "\n",
    "interesting = [\n",
    "    (name, header[-1])\n",
    "    for name, (header, _) in textures.items()\n",
    "    if header[-1] != 0 and header[0] == 5\n",
    "]\n",
    "print(interesting)"
   ]
  },
  {
   "cell_type": "code",
   "execution_count": 34,
   "metadata": {},
   "outputs": [
    {
     "data": {
      "image/png": "[encoded data removed]",
      "text/plain": [
       "<IPython.core.display.Image object>"
      ]
     },
     "metadata": {},
     "output_type": "display_data"
    }
   ],
   "source": [
    "header, texture = textures[\"beach02\"]\n",
    "width = header[1]\n",
    "height = header[2]\n",
    "size = width * height\n",
    "pixels = unpack_from(f\"<{size}H\", texture)\n",
    "img = Image.frombytes(\"RGB\", (width, height), bytes(rgb16_to_24(pixels)))\n",
    "display_image(img)"
   ]
  },
  {
   "cell_type": "markdown",
   "metadata": {},
   "source": [
    "This looks stretched. Could it be that easy?"
   ]
  },
  {
   "cell_type": "code",
   "execution_count": 35,
   "metadata": {},
   "outputs": [
    {
     "data": {
      "image/png": "[encoded data removed]",
      "text/plain": [
       "<IPython.core.display.Image object>"
      ]
     },
     "metadata": {},
     "output_type": "display_data"
    }
   ],
   "source": [
    "assert header[6] == 1\n",
    "display_image(\n",
    "    img.resize((width * 2, height), resample=Image.BICUBIC)\n",
    ")  # BILINEAR, BICUBIC, LANCZOS, HAMMING"
   ]
  },
  {
   "cell_type": "code",
   "execution_count": 36,
   "metadata": {},
   "outputs": [
    {
     "data": {
      "image/png": "[encoded data removed]",
      "text/plain": [
       "<IPython.core.display.Image object>"
      ]
     },
     "metadata": {},
     "output_type": "display_data"
    },
    {
     "data": {
      "image/png": "[encoded data removed]",
      "text/plain": [
       "<IPython.core.display.Image object>"
      ]
     },
     "metadata": {},
     "output_type": "display_data"
    }
   ],
   "source": [
    "header, texture = textures[\"txtrim01\"]\n",
    "width = header[1]\n",
    "height = header[2]\n",
    "size = width * height\n",
    "assert header[6] == 2\n",
    "pixels = unpack_from(f\"<{size}H\", texture)\n",
    "img = Image.frombytes(\"RGB\", (width, height), bytes(rgb16_to_24(pixels)))\n",
    "display_image(img)\n",
    "display_image(\n",
    "    img.resize((width, height * 2), resample=Image.BICUBIC)\n",
    ")  # BILINEAR, BICUBIC, LANCZOS, HAMMING"
   ]
  },
  {
   "cell_type": "markdown",
   "metadata": {},
   "source": [
    "Finally, `c1/texture.zbd`, and that other value."
   ]
  },
  {
   "cell_type": "code",
   "execution_count": 37,
   "metadata": {},
   "outputs": [
    {
     "name": "stdout",
     "output_type": "stream",
     "text": [
      "{1, 2, 3, 6, 7, 9, 10, 11, 12, 13, 14, 15, 16, 17, 18, 19, 20, 21, 23, 24, 25, 26, 27, 28, 30, 31, 32, 34, 35, 36, 37, 38, 39, 40, 41, 42, 43, 44, 45, 46, 47, 49, 50, 51, 52, 53, 54, 55, 56, 57, 58, 59, 60, 61, 62, 63, 64, 65, 66, 67, 68, 69, 70, 71, 72, 73, 75, 76, 77, 78, 79, 80, 81, 83, 84, 85, 86, 87, 88, 89, 90, 91, 92, 93, 94, 95, 96, 97, 98, 99, 100, 101, 102, 103, 104, 105, 106, 107, 108, 109, 110, 111, 112, 113, 114, 115, 116, 117, 118, 119, 120, 122, 123, 124, 125, 126, 127, 128, 129, 130, 131, 133, 134, 136, 137, 139, 140, 141, 142, 143, 144, 145, 146, 147, 148, 149, 150, 151, 153, 154, 155, 156, 157, 158, 159, 160, 161, 162, 164, 165, 166, 167, 168, 170, 171, 172, 173, 174, 176, 177, 178, 181, 182, 187, 188, 189, 190, 191, 194, 195, 196, 198, 199, 201, 203, 204, 205, 207, 213, 214, 215, 216, 218, 219, 221, 223, 226, 227, 228, 230, 232, 233, 236, 237, 239, 240, 245, 246, 247, 248, 250, 251, 256}\n"
     ]
    }
   ],
   "source": [
    "path = Path(\"install/v1.0-us-post/zbd/c1/texture.zbd\")\n",
    "textures = read_textures(path.read_bytes())\n",
    "\n",
    "print({header[5] for header, _ in textures.values()})"
   ]
  },
  {
   "cell_type": "code",
   "execution_count": 38,
   "metadata": {},
   "outputs": [
    {
     "name": "stdout",
     "output_type": "stream",
     "text": [
      "165\n"
     ]
    },
    {
     "data": {
      "text/plain": [
       "1.07080078125"
      ]
     },
     "execution_count": 38,
     "metadata": {},
     "output_type": "execute_result"
    }
   ],
   "source": [
    "header, texture = textures[\"lasertur01\"]\n",
    "width = header[1]\n",
    "height = header[2]\n",
    "size = width * height\n",
    "print(header[0])\n",
    "len(texture) / size"
   ]
  },
  {
   "cell_type": "code",
   "execution_count": 39,
   "metadata": {},
   "outputs": [
    {
     "name": "stdout",
     "output_type": "stream",
     "text": [
      "290\n",
      "145\n"
     ]
    }
   ],
   "source": [
    "print(len(texture) - size)\n",
    "print(header[5])"
   ]
  },
  {
   "cell_type": "markdown",
   "metadata": {},
   "source": [
    "At this point, I'm pretty sure it's a palette-based image, and the palette is RGB565. It makes sense for the palette to be before the image data, but it's easy to check. None of the pixels can have a greater index than the palette count (Note: therefore, it's sensible to pick an image with a palette count less than 255, otherwise you can't tell)."
   ]
  },
  {
   "cell_type": "code",
   "execution_count": 40,
   "metadata": {},
   "outputs": [
    {
     "name": "stdout",
     "output_type": "stream",
     "text": [
      "145 2 241\n",
      "145 0 144\n"
     ]
    }
   ],
   "source": [
    "pal_count = header[5]\n",
    "pal_size = pal_count * 2\n",
    "\n",
    "# palette at front\n",
    "pixels = texture[pal_size:]\n",
    "print(pal_count, min(pixels), max(pixels))\n",
    "\n",
    "# palette at back\n",
    "pixels = texture[:size]\n",
    "print(pal_count, min(pixels), max(pixels))"
   ]
  },
  {
   "cell_type": "code",
   "execution_count": 41,
   "metadata": {},
   "outputs": [
    {
     "data": {
      "image/png": "[encoded data removed]",
      "text/plain": [
       "<IPython.core.display.Image object>"
      ]
     },
     "metadata": {},
     "output_type": "display_data"
    }
   ],
   "source": [
    "pixels = texture[:size]\n",
    "palette = unpack_from(f\"<{pal_count}H\", texture, size)\n",
    "\n",
    "img = Image.frombytes(\"P\", (width, height), pixels)\n",
    "img.putpalette(bytes(rgb16_to_24(palette)))\n",
    "display_image(img)"
   ]
  },
  {
   "cell_type": "markdown",
   "metadata": {},
   "source": [
    "Huzzah! Does it hold for all images?"
   ]
  },
  {
   "cell_type": "code",
   "execution_count": 42,
   "metadata": {},
   "outputs": [
    {
     "data": {
      "text/plain": [
       "False"
      ]
     },
     "execution_count": 42,
     "metadata": {},
     "output_type": "execute_result"
    }
   ],
   "source": [
    "all(\n",
    "    ((header[5] * 2) == len(texture) - (header[1] * header[2]))\n",
    "    for header, texture in textures.values()\n",
    ")"
   ]
  },
  {
   "cell_type": "code",
   "execution_count": 43,
   "metadata": {},
   "outputs": [
    {
     "data": {
      "text/plain": [
       "165"
      ]
     },
     "execution_count": 43,
     "metadata": {},
     "output_type": "execute_result"
    }
   ],
   "source": [
    "header, texture = textures[\"lasertur01\"]\n",
    "header[0]"
   ]
  },
  {
   "cell_type": "code",
   "execution_count": 44,
   "metadata": {},
   "outputs": [
    {
     "data": {
      "text/plain": [
       "{165, 171}"
      ]
     },
     "execution_count": 44,
     "metadata": {},
     "output_type": "execute_result"
    }
   ],
   "source": [
    "{header[0] for header, _ in textures.values()}"
   ]
  },
  {
   "cell_type": "code",
   "execution_count": 45,
   "metadata": {},
   "outputs": [
    {
     "data": {
      "text/plain": [
       "True"
      ]
     },
     "execution_count": 45,
     "metadata": {},
     "output_type": "execute_result"
    }
   ],
   "source": [
    "all(\n",
    "    ((header[5] * 2) == len(texture) - (header[1] * header[2]))\n",
    "    for header, texture in textures.values()\n",
    "    if header[0] == 165\n",
    ")"
   ]
  },
  {
   "cell_type": "markdown",
   "metadata": {},
   "source": [
    "This is just a guess, but if `165` is the palettised version of `5`, then `171` could be the palettised version of `11`, which included an alpha channel."
   ]
  },
  {
   "cell_type": "code",
   "execution_count": 46,
   "metadata": {},
   "outputs": [
    {
     "data": {
      "text/plain": [
       "'brlstn2'"
      ]
     },
     "execution_count": 46,
     "metadata": {},
     "output_type": "execute_result"
    }
   ],
   "source": [
    "next(name for name, (header, _) in textures.items() if header[0] == 171)"
   ]
  },
  {
   "cell_type": "code",
   "execution_count": 47,
   "metadata": {},
   "outputs": [
    {
     "name": "stdout",
     "output_type": "stream",
     "text": [
      "4096 22 4096\n"
     ]
    }
   ],
   "source": [
    "header, texture = textures[\"brlstn2\"]\n",
    "width = header[1]\n",
    "height = header[2]\n",
    "size = width * height\n",
    "pal_count = header[5]\n",
    "pal_size = pal_count * 2\n",
    "print(size, pal_size, len(texture) - size - pal_size)"
   ]
  },
  {
   "cell_type": "markdown",
   "metadata": {},
   "source": [
    "If I'm reading this right, then the alpha channel is again uncompressed bytes. The question is where the alpha channel is stored. This is easiest done trying to display the alpha channel as grey scale."
   ]
  },
  {
   "cell_type": "code",
   "execution_count": 48,
   "metadata": {},
   "outputs": [
    {
     "data": {
      "image/png": "[encoded data removed]",
      "text/plain": [
       "<IPython.core.display.Image object>"
      ]
     },
     "metadata": {},
     "output_type": "display_data"
    },
    {
     "data": {
      "image/png": "[encoded data removed]",
      "text/plain": [
       "<IPython.core.display.Image object>"
      ]
     },
     "metadata": {},
     "output_type": "display_data"
    }
   ],
   "source": [
    "# palette before alpha\n",
    "img = Image.frombytes(\n",
    "    \"L\", (width, height), texture[size + pal_size : size * 2 + pal_size]\n",
    ")\n",
    "display_image(img)\n",
    "# alpha before palette\n",
    "img = Image.frombytes(\"L\", (width, height), texture[size : size * 2])\n",
    "display_image(img)"
   ]
  },
  {
   "cell_type": "markdown",
   "metadata": {},
   "source": [
    "One of these looks better"
   ]
  },
  {
   "cell_type": "code",
   "execution_count": 49,
   "metadata": {},
   "outputs": [
    {
     "data": {
      "image/png": "[encoded data removed]",
      "text/plain": [
       "<IPython.core.display.Image object>"
      ]
     },
     "metadata": {},
     "output_type": "display_data"
    }
   ],
   "source": [
    "pixels = texture[0:size]\n",
    "transparent = texture[size : size * 2]\n",
    "palette = unpack_from(f\"<{pal_count}H\", texture, size * 2)\n",
    "\n",
    "img = Image.frombytes(\"P\", (width, height), pixels)\n",
    "img.putpalette(bytes(rgb16_to_24(palette)))\n",
    "img = img.convert(\"RGB\")\n",
    "alpha = Image.frombytes(\"L\", (width, height), transparent)\n",
    "img.putalpha(alpha)\n",
    "display_image(img)"
   ]
  },
  {
   "cell_type": "markdown",
   "metadata": {},
   "source": [
    "Maybe there's one with more colours to check."
   ]
  },
  {
   "cell_type": "code",
   "execution_count": 50,
   "metadata": {},
   "outputs": [
    {
     "name": "stdout",
     "output_type": "stream",
     "text": [
      "['brlstn2', 'ctfount01', 'ctfount03', 'ctfount05', 'drytree01', 'drytree02b', 'drytree03', 'drytree03s', 'drytree04', 'fish_boat03', 'gfly01', 'gfly02', 'gfly03', 'gfly04', 'gull01', 'jhwnd03a', 'lflare1', 'lflare2', 'lflare3', 'lflare4', 'm4rbrg01b', 'mf02', 'mfstack', 'pblb', 'poturr1', 'poturr2', 'shadow', 'shadow2', 'tmblweed', 'tpool01', 'txsurf06', 'BEAMBLUE', 'BEAMGRN', 'BEAMRED', 'GAUSMUZ', 'IMPACT01', 'IMPACT03', 'IMPACT04', 'IMPACT05', 'IMPACT06', 'IMPACT07', 'IMPACT08', 'IMPACT09', 'IMPACT10', 'Impact02', 'MACBLST', 'PPCMUZ', 'VAPOR01', 'WAYPOINT', 'bigwake', 'blood', 'blue_starburst', 'bsmok1', 'bsplsh02', 'bsplsh04', 'bsplsh06', 'bsplsh08', 'bsplsh10', 'bsplsh12', 'bsplsh14', 'bsplsh16', 'bsplsh18', 'bsplsh20', 'bushwacker_concrete', 'bushwacker_dirt', 'bushwacker_snow', 'cpit_crack01', 'cpit_ding01', 'crate01', 'crate02', 'crate03', 'crate04', 'crate05', 'crate06', 'crate07', 'crate08', 'crate09', 'crate10', 'crate11', 'crate12', 'crate13', 'crate14', 'dust01', 'fire_f01', 'fire_f02', 'fire_f03', 'fire_f04', 'fire_f05', 'fire_f06', 'fire_f07', 'fire_f08', 'fire_f09', 'fire_f10', 'fire_f11', 'fire_f12', 'fire_f13', 'fire_f14', 'fire_f15', 'fire_f16', 'firefly_concrete', 'firefly_dirt', 'firefly_snow', 'gaustrail', 'green_exp01', 'kickdust01', 'kickdust02', 'kickdust03', 'kickdust04', 'kickdust05', 'kickdust06', 'laser_impact_blue', 'laser_impact_green', 'laser_impact_red', 'lnflare01', 'lnflare02', 'madcat_concrete', 'madcat_dirt', 'madcat_snow', 'mgun_impact01', 'mgun_impact02', 'mgun_impact03', 'mgun_impact04', 'nuke01', 'nuke03', 'nuke05', 'nuke06', 'nuke08', 'nuke10', 'owens_concrete', 'owens_dirt', 'owens_snow', 'plsbrn01', 'plsbrn02', 'plsbrn03', 'plsbrn04', 'plsbrn05', 'plsbrn06', 'plsbrn07', 'plsbrn08', 'point_flare', 'ppc_trail', 'red_starburst', 'ric_yellow', 'shadowcat_concrete', 'shadowcat_dirt', 'shadowcat_snow', 'shkwave01', 'shkwave02', 'shkwave03', 'snowfoot01', 'spark_part', 'spark_part2', 'spark_part3', 'spark_part4', 'spark_part5', 'sparkpuff01', 'sparkpuff02', 'sparkpuff03', 'sparkpuff04', 'sparkpuff05', 'sparkpuff06', 'sparkpuff07', 'sparkpuff08', 'sparkpuff09', 'sparkpuff10', 'splashup', 'supernova_concrete', 'supernova_dirt', 'supernova_snow', 'thor_concrete', 'thor_dirt', 'thor_snow', 'wake05', 'wsmok1', 'wtsmoke1', 'wtsmoke2', 'zergc01', 'zergc02', 'zergc03', 'zergc04', 'zergc05', 'zergc06', 'zergc07', 'zergc08', 'zergc09', 'zergc10', 'cpit_window', 'eject03', 'm_hq11', 'ppc_turret04', 'ppc_turret06', 'rotor1']\n"
     ]
    }
   ],
   "source": [
    "print([name for name, (header, _) in textures.items() if header[0] == 171])"
   ]
  },
  {
   "cell_type": "code",
   "execution_count": 51,
   "metadata": {},
   "outputs": [
    {
     "data": {
      "image/png": "[encoded data removed]",
      "text/plain": [
       "<IPython.core.display.Image object>"
      ]
     },
     "metadata": {},
     "output_type": "display_data"
    }
   ],
   "source": [
    "header, texture = textures[\"crate02\"]\n",
    "width = header[1]\n",
    "height = header[2]\n",
    "size = width * height\n",
    "pal_count = header[5]\n",
    "pal_size = pal_count * 2\n",
    "\n",
    "pixels = texture[0:size]\n",
    "transparent = texture[size : size * 2]\n",
    "palette = unpack_from(f\"<{pal_count}H\", texture, size * 2)\n",
    "\n",
    "img = Image.frombytes(\"P\", (width, height), pixels)\n",
    "img.putpalette(bytes(rgb16_to_24(palette)))\n",
    "img = img.convert(\"RGB\")\n",
    "alpha = Image.frombytes(\"L\", (width, height), transparent)\n",
    "img.putalpha(alpha)\n",
    "display_image(img)"
   ]
  },
  {
   "cell_type": "markdown",
   "metadata": {},
   "source": [
    "And with that, all images can be decoded. Of course, there's probably not much point in decoding palette-based images when the RGB versions exist, other than sheer curiosity and preservation."
   ]
  },
  {
   "cell_type": "markdown",
   "metadata": {},
   "source": [
    "## Next up\n",
    "\n",
    "[3D model extraction](07-mechlib.ipynb)"
   ]
  },
  {
   "cell_type": "markdown",
   "metadata": {},
   "source": [
    "## Errata\n",
    "\n",
    "\n",
    "There exist two textures with a stretch value of 3, `spotlight2` and `tertrans3`. They look fine as is, or simply lack detail to make the call, so I'm not sure what that value means."
   ]
  },
  {
   "cell_type": "code",
   "execution_count": 52,
   "metadata": {},
   "outputs": [
    {
     "data": {
      "text/plain": [
       "{'txgter_2'}"
      ]
     },
     "execution_count": 52,
     "metadata": {},
     "output_type": "execute_result"
    }
   ],
   "source": [
    "path = Path(\"install/v1.0-us-post/zbd/c1/rtexture.zbd\")\n",
    "names1 = read_textures(path.read_bytes()).keys()\n",
    "\n",
    "path = Path(\"install/v1.0-us-post/zbd/c1/texture.zbd\")\n",
    "names2 = read_textures(path.read_bytes()).keys()\n",
    "\n",
    "names1 ^ names2"
   ]
  },
  {
   "cell_type": "markdown",
   "metadata": {},
   "source": [
    "Oh come on! Why?"
   ]
  },
  {
   "cell_type": "code",
   "execution_count": 53,
   "metadata": {},
   "outputs": [
    {
     "data": {
      "text/plain": [
       "{'BARSIDE2', 'BEACH01', 'BEACH02', 'SKY01', 'TMBLWEED', 'TPOOL01', 'txgter_2'}"
      ]
     },
     "execution_count": 53,
     "metadata": {},
     "output_type": "execute_result"
    }
   ],
   "source": [
    "base = Path(\"install/v1.0-us-post/zbd/c1\")\n",
    "names1 = set()\n",
    "for path in base.glob(\"rtexture*.zbd\"):\n",
    "    names1 |= read_textures(path.read_bytes()).keys()\n",
    "\n",
    "names2 = set()\n",
    "for path in base.glob(\"texture*.zbd\"):\n",
    "    names2 |= read_textures(path.read_bytes()).keys()\n",
    "\n",
    "names1 ^ names2"
   ]
  },
  {
   "cell_type": "code",
   "execution_count": 54,
   "metadata": {},
   "outputs": [
    {
     "data": {
      "text/plain": [
       "{'BEACH01', 'BEACH02', 'SKY01', 'txgter_2'}"
      ]
     },
     "execution_count": 54,
     "metadata": {},
     "output_type": "execute_result"
    }
   ],
   "source": [
    "names2 - names1"
   ]
  },
  {
   "cell_type": "code",
   "execution_count": 55,
   "metadata": {},
   "outputs": [
    {
     "data": {
      "text/plain": [
       "{'BARSIDE2', 'TMBLWEED', 'TPOOL01'}"
      ]
     },
     "execution_count": 55,
     "metadata": {},
     "output_type": "execute_result"
    }
   ],
   "source": [
    "names1 - names2"
   ]
  },
  {
   "cell_type": "markdown",
   "metadata": {},
   "source": [
    "I have to imagine these were left in by accident, since they seem otherwise unused:\n",
    "\n",
    "```console\n",
    "$ grep -rF 'txgter_2' install/v1.0-us-post/zbd\n",
    "Binary file install/v1.0-us-post/zbd/c1/texture.zbd matches\n",
    "Binary file install/v1.0-us-post/zbd/c1/texture1.zbd matches\n",
    "Binary file install/v1.0-us-post/zbd/c1/texture2.zbd matches\n",
    "```\n",
    "\n",
    "Compared to e.g. `madcat_concrete`\n",
    "\n",
    "```console\n",
    "$ grep -rF 'madcat_concrete' install/v1.0-us-post/zbd\n",
    "[...]\n",
    "Binary file install/v1.0-us-post/zbd/interp.zbd matches\n",
    "Binary file install/v1.0-us-post/zbd/reader.zbd matches\n",
    "```"
   ]
  },
  {
   "cell_type": "code",
   "execution_count": null,
   "metadata": {},
   "outputs": [],
   "source": []
  }
 ],
 "metadata": {
  "kernelspec": {
   "display_name": "Python 3",
   "language": "python",
   "name": "python3"
  },
  "language_info": {
   "codemirror_mode": {
    "name": "ipython",
    "version": 3
   },
   "file_extension": ".py",
   "mimetype": "text/x-python",
   "name": "python",
   "nbconvert_exporter": "python",
   "pygments_lexer": "ipython3",
   "version": "3.7.7"
  }
 },
 "nbformat": 4,
 "nbformat_minor": 2
}

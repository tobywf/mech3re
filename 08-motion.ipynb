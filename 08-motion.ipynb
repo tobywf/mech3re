{
 "cells": [
  {
   "cell_type": "markdown",
   "metadata": {},
   "source": [
    "# Motion\n",
    "\n",
    "Luckily, the motion files are also the same across versions. It also looks like another archive with a table at the back of the file."
   ]
  },
  {
   "cell_type": "code",
   "execution_count": 1,
   "metadata": {},
   "outputs": [
    {
     "name": "stdout",
     "output_type": "stream",
     "text": [
      "annihilator_collapser\n",
      "vulture_trot\n",
      "vulture_step\n",
      "vulture_stand\n",
      "vulture_run\n",
      "annihilator_getupf\n",
      "annihilator_getupb\n",
      "annihilator_fallf\n",
      "annihilator_fallb\n",
      "vulture_walk\n"
     ]
    }
   ],
   "source": [
    "from pathlib import Path\n",
    "from struct import Struct, unpack_from\n",
    "\n",
    "ARCHIVE_FOOTER = Struct(\"<2I\")\n",
    "ARCHIVE_RECORD = Struct(\"<2I64s76x\")\n",
    "\n",
    "\n",
    "def extract_archive(data):\n",
    "    offset = len(data) - ARCHIVE_FOOTER.size\n",
    "    _, count = ARCHIVE_FOOTER.unpack_from(data, offset)\n",
    "    for _ in range(count):\n",
    "        offset -= ARCHIVE_RECORD.size  # walk the table backwards\n",
    "        start, length, name = ARCHIVE_RECORD.unpack_from(data, offset)\n",
    "        name = name.rstrip(b\"\\x00\").decode(\"ascii\")\n",
    "        yield name, data[start : start + length]\n",
    "\n",
    "\n",
    "data = Path(\"install/v1.0-us-pre/zbd/motion.zbd\").read_bytes()\n",
    "motions = dict(extract_archive(data))\n",
    "motion_names = list(motions.keys())\n",
    "print(\"\\n\".join(motion_names[:5] + motion_names[-5:]))"
   ]
  },
  {
   "cell_type": "code",
   "execution_count": 2,
   "metadata": {},
   "outputs": [
    {
     "data": {
      "text/plain": [
       "[(850, 'elemental_stand'),\n",
       " (850, 'sunder_stand'),\n",
       " (850, 'thor_stand'),\n",
       " (992, 'cauldron_stand')]"
      ]
     },
     "execution_count": 2,
     "metadata": {},
     "output_type": "execute_result"
    }
   ],
   "source": [
    "by_length = sorted((len(motion), name) for name, motion in motions.items())\n",
    "by_length[:4]"
   ]
  },
  {
   "cell_type": "code",
   "execution_count": 3,
   "metadata": {},
   "outputs": [
    {
     "name": "stdout",
     "output_type": "stream",
     "text": [
      "00|04 00 00 00 89 88 08 3D|.......=\n",
      "08|01 00 00 00 0C 00 00 00|........\n",
      "16|00 00 80 BF 00 00 80 3F|.......?\n",
      "24|03 00 00 00 68 69 70 0C|....hip.\n",
      "32|00 00 00 13 9C FA B9 77|.......w\n",
      "40|2E BD 40 87 F8 13 3F 13|..@...?.\n",
      "48|9C FA B9 77 2E BD 40 87|...w..@.\n",
      "56|F8 13 3F 00 00 80 3F 00|..?...?.\n"
     ]
    }
   ],
   "source": [
    "from helpers import hexdump\n",
    "\n",
    "motion = motions[\"thor_stand\"]\n",
    "hexdump(motion[:64])"
   ]
  },
  {
   "cell_type": "markdown",
   "metadata": {},
   "source": [
    "I see 'mech part names and the length of those names. A bit of manually reading the offsets later..."
   ]
  },
  {
   "cell_type": "code",
   "execution_count": 4,
   "metadata": {},
   "outputs": [
    {
     "name": "stdout",
     "output_type": "stream",
     "text": [
      "b'hip' 12\n",
      "64\n",
      "b'torso' 12\n",
      "64\n",
      "b'lthigh' 12\n",
      "b'rthigh' 12\n",
      "b'rfoot' 12\n",
      "b'lfoot' 12\n",
      "b'rcalf' 12\n",
      "b'lcalf' 12\n",
      "b'larm' 12\n",
      "b'rarm' 12\n",
      "b'rhand' 12\n",
      "b'lhand' 12\n",
      "64\n"
     ]
    }
   ],
   "source": [
    "def name(offset):\n",
    "    l, = unpack_from(\"<I\", motion, offset)\n",
    "    offset += 4\n",
    "    name = motion[offset : offset + l]\n",
    "    offset += l\n",
    "    print(name, *unpack_from(\"<I\", motion, offset))\n",
    "    return l\n",
    "\n",
    "\n",
    "l = name(24)\n",
    "print(91 - 24 - l)\n",
    "l = name(91)\n",
    "print(160 - 91 - l)\n",
    "name(160)\n",
    "name(230)\n",
    "name(300)\n",
    "name(369)\n",
    "name(438)\n",
    "name(507)\n",
    "name(576)\n",
    "name(644)\n",
    "name(712)\n",
    "l = name(781)\n",
    "print(781 - 712 - l)"
   ]
  },
  {
   "cell_type": "markdown",
   "metadata": {},
   "source": [
    "Seems like the motion data for each armature is 64 (or 60, disregarding the length). And there are 12 armatures:"
   ]
  },
  {
   "cell_type": "code",
   "execution_count": 5,
   "metadata": {},
   "outputs": [
    {
     "data": {
      "text/plain": [
       "(4, 1, 12)"
      ]
     },
     "execution_count": 5,
     "metadata": {},
     "output_type": "execute_result"
    }
   ],
   "source": [
    "unpack_from(\"<I4x2I8x\", motion, 0)"
   ]
  },
  {
   "cell_type": "code",
   "execution_count": 6,
   "metadata": {},
   "outputs": [
    {
     "name": "stdout",
     "output_type": "stream",
     "text": [
      "thor_stand 4 1 12\n",
      "hip 12 torso 12 lthigh 12 rthigh 12 rfoot 12 lfoot 12 rcalf 12 lcalf 12 larm 12 rarm 12 rhand 12 lhand 12 \n",
      "elemental_stand 4 1 12\n",
      "hip 12 torso 12 lthigh 12 rthigh 12 rfoot 12 lfoot 12 rcalf 12 lcalf 12 larm 12 rarm 12 rhand 12 lhand 12 \n",
      "sunder_stand 4 1 12\n",
      "hip 12 torso 12 lthigh 12 rthigh 12 rfoot 12 lfoot 12 rcalf 12 lcalf 12 larm 12 rarm 12 rhand 12 lhand 12 \n",
      "cauldron_stand 4 1 14\n",
      "hip 12 torso 12 lthigh 12 rthigh 12 rfoot 12 lfoot 12 ltoe02 12 ltoe01 12 rtoe02 12 rtoe01 12 rcalf 12 lcalf 12 larm 12 rarm 12 \n"
     ]
    }
   ],
   "source": [
    "def parse_motion(name):\n",
    "    motion = motions[name]\n",
    "    unk1, unk2, count = unpack_from(\"<I4x2I8x\", motion, 0)\n",
    "    print(name, unk1, unk2, count)\n",
    "    offset = 24\n",
    "    for _ in range(count):\n",
    "        l, = unpack_from(\"<I\", motion, offset)\n",
    "        offset += 4\n",
    "        part = motion[offset : offset + l].decode(\"ascii\")\n",
    "        print(part, end=\" \")\n",
    "        offset += l\n",
    "        val, = unpack_from(\"<I\", motion, offset)\n",
    "        print(val, end=\" \")\n",
    "        offset += 60\n",
    "    print()\n",
    "\n",
    "\n",
    "parse_motion(\"thor_stand\")\n",
    "parse_motion(\"elemental_stand\")\n",
    "parse_motion(\"sunder_stand\")\n",
    "parse_motion(\"cauldron_stand\")"
   ]
  },
  {
   "cell_type": "markdown",
   "metadata": {},
   "source": [
    "Looking good so far. But it does break for some of the other ones. Presumably, there's more information in the header I need to understand."
   ]
  },
  {
   "cell_type": "code",
   "execution_count": 7,
   "metadata": {},
   "outputs": [
    {
     "name": "stdout",
     "output_type": "stream",
     "text": [
      "annihilator_collapser 60 18\n",
      "vulture_trot 44 6\n",
      "vulture_step 61 22\n",
      "vulture_stand 99 22\n",
      "vulture_run 45 22\n",
      "annihilator_getupb 79 18\n",
      "annihilator_fallf 22 18\n",
      "annihilator_fallb 23 18\n",
      "vulture_walk 56 18\n"
     ]
    }
   ],
   "source": [
    "for i, (name, motion) in enumerate(motions.items()):\n",
    "    four, unk2, count = unpack_from(\"<I4x2I4x\", motion, 0)\n",
    "    assert four == 4\n",
    "    # Avoid output spam\n",
    "    if i < 5 or i > len(motions) - 5:\n",
    "        print(name, unk2, count)"
   ]
  },
  {
   "cell_type": "markdown",
   "metadata": {},
   "source": [
    "`strider_stand` has an unknown value of 2, which should make investigation easier."
   ]
  },
  {
   "cell_type": "code",
   "execution_count": 8,
   "metadata": {},
   "outputs": [
    {
     "name": "stdout",
     "output_type": "stream",
     "text": [
      "00|04 00 00 00 89 88 88 3D|.......=\n",
      "08|02 00 00 00 16 00 00 00|........\n",
      "16|00 00 80 BF 00 00 80 3F|.......?\n",
      "24|03 00 00 00 68 69 70 0C|....hip.\n",
      "32|00 00 00 BD 37 86 B5 CF|....7...\n",
      "40|32 BB 40 16 C3 F5 BD BD|2.@.....\n",
      "48|37 86 B5 CF 32 BB 40 16|7...2.@.\n",
      "56|C3 F5 BD BD 37 86 B5 CF|....7...\n"
     ]
    }
   ],
   "source": [
    "motion = motions[\"strider_stand\"]\n",
    "count = 22\n",
    "hexdump(motion[:64])"
   ]
  },
  {
   "cell_type": "code",
   "execution_count": 9,
   "metadata": {},
   "outputs": [
    {
     "name": "stdout",
     "output_type": "stream",
     "text": [
      "b'hip'\n",
      "b'torso'\n",
      "88\n",
      "b'lthigh'\n",
      "88\n",
      "b'rthigh'\n",
      "88\n",
      "b'rfoot'\n",
      "88\n"
     ]
    }
   ],
   "source": [
    "print(motion[28 : 28 + 3])\n",
    "print(motion[123 : 123 + 5])\n",
    "print(123 - 28 - 4 - 3)\n",
    "print(motion[220 : 220 + 6])\n",
    "print(220 - 123 - 4 - 5)\n",
    "print(motion[318 : 318 + 6])\n",
    "print(318 - 220 - 4 - 6)\n",
    "print(motion[416 : 416 + 5])\n",
    "print(416 - 318 - 4 - 6)"
   ]
  },
  {
   "cell_type": "markdown",
   "metadata": {},
   "source": [
    "I'm suspecting that number is the number of frames in the animation. So I'll try `orion_landf` or `orion_landb` next, with 18."
   ]
  },
  {
   "cell_type": "code",
   "execution_count": 10,
   "metadata": {},
   "outputs": [
    {
     "name": "stdout",
     "output_type": "stream",
     "text": [
      "00|04 00 00 00 9A 99 19 3F|.......?\n",
      "08|12 00 00 00 10 00 00 00|........\n",
      "16|00 00 80 BF 00 00 80 3F|.......?\n",
      "24|03 00 00 00 68 69 70 0C|....hip.\n",
      "32|00 00 00 EA AF 57 BD 4B|.....W.K\n",
      "40|8F EC 3F 74 34 AE C0 DC|..?t4...\n",
      "48|66 6A BD 9C 8B B5 3F 82|fj....?.\n",
      "56|1D AF C0 79 B1 70 BD EA|...y.p..\n"
     ]
    }
   ],
   "source": [
    "motion = motions[\"orion_landf\"]\n",
    "count = 16\n",
    "hexdump(motion[:64])"
   ]
  },
  {
   "cell_type": "code",
   "execution_count": 11,
   "metadata": {},
   "outputs": [
    {
     "name": "stdout",
     "output_type": "stream",
     "text": [
      "b'hip'\n",
      "b'torso'\n",
      "536\n"
     ]
    }
   ],
   "source": [
    "print(motion[28 : 28 + 3])\n",
    "print(motion[571 : 571 + 5])\n",
    "print(571 - 28 - 4 - 3)"
   ]
  },
  {
   "cell_type": "markdown",
   "metadata": {},
   "source": [
    "If 60 is 1, and 88 is 2, then the data per frame is 28, and the base data is 32. Sure enough, 32 + 28 * 18 = 536."
   ]
  },
  {
   "cell_type": "code",
   "execution_count": 12,
   "metadata": {},
   "outputs": [
    {
     "name": "stdout",
     "output_type": "stream",
     "text": [
      "thor_stand 1\n",
      "hip torso lthigh rthigh rfoot lfoot rcalf lcalf larm rarm rhand lhand \n",
      "orion_landf 18\n",
      "hip torso lthigh rthigh rfoot lfoot ltoe02 ltoe01 rtoe02 rtoe01 rcalf lcalf larm rarm rhand lhand \n",
      "vulture_stand 99\n",
      "hip torso lthigh rthigh rfoot lfoot ltoe02 ltoe01 ltoe03 ltoe04 rtoe03 rtoe02 rtoe01 rtoe04 rcalf rankle lcalf lankle larm rarm rhand lhand \n"
     ]
    }
   ],
   "source": [
    "def parse_motion(name):\n",
    "    motion = motions[name]\n",
    "    four, frame_count, part_count = unpack_from(\"<I4x2I8x\", motion, 0)\n",
    "    assert four == 4\n",
    "    print(name, frame_count)\n",
    "    offset = 24\n",
    "    frame_size = 32 + 28 * frame_count\n",
    "    for _ in range(part_count):\n",
    "        l, = unpack_from(\"<I\", motion, offset)\n",
    "        offset += 4\n",
    "        part = motion[offset : offset + l].decode(\"ascii\")\n",
    "        print(part, end=\" \")\n",
    "        offset += l + frame_size\n",
    "    print()\n",
    "\n",
    "\n",
    "parse_motion(\"thor_stand\")\n",
    "parse_motion(\"orion_landf\")\n",
    "_, longest_name = by_length[-1]\n",
    "parse_motion(longest_name)"
   ]
  },
  {
   "cell_type": "markdown",
   "metadata": {},
   "source": [
    "28 bytes of data isn't much. But then again, from decoding 3D model, translation and rotation matrices were used. A float is 32 bits or 4 bytes, and 6 * 4 = 24."
   ]
  },
  {
   "cell_type": "code",
   "execution_count": 13,
   "metadata": {},
   "outputs": [
    {
     "name": "stdout",
     "output_type": "stream",
     "text": [
      "hip\n",
      "-0.00 +5.91 +0.58 -0.00 +5.91 +0.58 +1.00\n",
      "+0.00 +0.00 +0.00 +1.00 +0.00 +0.00 +0.00\n",
      "torso\n",
      "-0.00 +0.90 +0.21 -0.00 +0.90 +0.21 +1.00\n",
      "+0.00 +0.00 -0.00 +1.00 +0.00 +0.00 -0.00\n",
      "lthigh\n",
      "-1.19 +0.60 +0.29 -1.19 +0.60 +0.29 -0.99\n",
      "-0.11 -0.00 -0.00 -0.99 -0.11 -0.00 -0.00\n",
      "rthigh\n",
      "+1.19 +0.60 +0.29 +1.19 +0.60 +0.29 -1.00\n",
      "-0.05 +0.00 +0.00 -1.00 -0.05 +0.00 +0.00\n",
      "rfoot\n",
      "+1.69 -4.53 +0.42 +1.69 -4.53 +0.42 +1.00\n",
      "-0.00 +0.00 -0.00 +1.00 -0.00 +0.00 -0.00\n",
      "lfoot\n",
      "-1.69 -4.52 -0.29 -1.69 -4.52 -0.29 +1.00\n",
      "+0.00 +0.00 +0.00 +1.00 +0.00 +0.00 +0.00\n",
      "rcalf\n",
      "+0.51 -3.51 +0.02 +0.51 -3.51 +0.02 -0.98\n",
      "+0.19 -0.00 -0.00 -0.98 +0.19 -0.00 -0.00\n",
      "lcalf\n",
      "-0.50 -3.51 +0.01 -0.50 -3.51 +0.01 -0.98\n",
      "+0.17 -0.00 -0.00 -0.98 +0.17 -0.00 -0.00\n",
      "larm\n",
      "-2.00 +2.30 +0.25 -2.00 +2.30 +0.25 +1.00\n",
      "+0.00 +0.00 +0.00 +1.00 +0.00 +0.00 +0.00\n",
      "rarm\n",
      "+1.79 +2.32 +0.11 +1.79 +2.32 +0.11 +1.00\n",
      "+0.00 +0.00 +0.00 +1.00 +0.00 +0.00 +0.00\n",
      "rhand\n",
      "+1.01 -0.76 +0.00 +1.01 -0.76 +0.00 +1.00\n",
      "+0.00 +0.00 +0.00 +1.00 +0.00 +0.00 +0.00\n",
      "lhand\n",
      "-0.71 -1.15 -0.00 -0.71 -1.15 -0.00 +1.00\n",
      "+0.00 +0.00 +0.00 +1.00 +0.00 +0.00 +0.00\n"
     ]
    }
   ],
   "source": [
    "def parse_motion(name):\n",
    "    motion = motions[name]\n",
    "    four, frame_count, part_count = unpack_from(\"<I4x2I8x\", motion, 0)\n",
    "    assert four == 4\n",
    "    offset = 24\n",
    "    frame_size = 28 * frame_count\n",
    "    parts = {}\n",
    "    for _ in range(part_count):\n",
    "        l, = unpack_from(\"<I\", motion, offset)\n",
    "        offset += 4\n",
    "        part_name = motion[offset : offset + l].decode(\"ascii\")\n",
    "        offset += l\n",
    "        header = motion[offset : offset + 32]\n",
    "        offset += 32\n",
    "        frames = []\n",
    "        for _ in range(frame_count):\n",
    "            frame = motion[offset : offset + 28]\n",
    "            offset += 28\n",
    "            frames.append(frame)\n",
    "        parts[part_name] = (header, frames)\n",
    "    return parts, frame_count\n",
    "\n",
    "\n",
    "parts, _ = parse_motion(\"thor_stand\")\n",
    "for part_name, (part_header, part_frames) in parts.items():\n",
    "    print(part_name)\n",
    "    print(*[\"{:+.2f}\".format(v) for v in unpack_from(\"<7f\", part_header, 4)])\n",
    "    for part_frame in part_frames:\n",
    "        print(*[\"{:+.2f}\".format(v) for v in unpack_from(\"<7f\", part_frame, 0)])"
   ]
  },
  {
   "cell_type": "code",
   "execution_count": 14,
   "metadata": {
    "scrolled": false
   },
   "outputs": [
    {
     "name": "stdout",
     "output_type": "stream",
     "text": [
      "hip 12 56\n",
      "+0.09 +5.73 -3.28 +0.11 +5.72 -3.42 +0.12\n",
      "torso 12 56\n",
      "-0.00 +0.90 +0.21 -0.00 +0.90 +0.21 -0.00\n",
      "lthigh 12 56\n",
      "-1.19 +0.60 +0.29 -1.19 +0.60 +0.29 -1.19\n",
      "rthigh 12 56\n",
      "+1.19 +0.60 +0.29 +1.19 +0.60 +0.29 +1.19\n",
      "rfoot 12 56\n",
      "+1.67 -4.27 -1.47 +1.65 -4.30 -1.35 +1.63\n",
      "lfoot 12 56\n",
      "-1.91 -4.33 +1.82 -1.91 -4.30 +1.85 -1.89\n",
      "rcalf 12 56\n",
      "+0.50 -3.47 -0.01 +0.50 -3.47 -0.01 +0.50\n",
      "lcalf 12 56\n",
      "-0.50 -3.51 +0.01 -0.50 -3.51 +0.01 -0.50\n",
      "larm 12 56\n",
      "-2.00 +2.30 +0.25 -2.00 +2.30 +0.25 -2.00\n",
      "rarm 12 56\n",
      "+1.79 +2.32 +0.11 +1.79 +2.32 +0.11 +1.79\n",
      "rhand 12 56\n",
      "+1.01 -0.76 +0.00 +1.01 -0.76 +0.00 +1.01\n",
      "lhand 12 56\n",
      "-0.71 -1.15 -0.00 -0.71 -1.15 -0.00 -0.71\n"
     ]
    }
   ],
   "source": [
    "parts, frame_count = parse_motion(\"thor_walk\")\n",
    "for part_name, (part_header, part_frames) in parts.items():\n",
    "    i, = unpack_from(\"<I\", part_header, 0)\n",
    "    print(part_name, i, frame_count)\n",
    "    print(*[\"{:+.2f}\".format(v) for v in unpack_from(\"<7f\", part_header, 4)])\n",
    "    # Commented out to avoid output spam\n",
    "    # for part_frame in part_frames:\n",
    "    #    print(*[\"{:+.2f}\".format(v) for v in unpack_from(\"<7f\", part_frame, 0)])"
   ]
  },
  {
   "cell_type": "markdown",
   "metadata": {},
   "source": [
    "Hmm, I think I can see a cyclical pattern of 3 values. It's too consistent to be a coincidence. In fact, there's a pattern: 57 rows of triplets, and then 57 rows of quadruplets:\n",
    "\n",
    "```\n",
    "+0.09 +5.73 -3.28\n",
    "+0.11 +5.72 -3.42\n",
    "+0.12 +5.72 -3.56\n",
    "[...]\n",
    "+0.05 +5.74 -10.98\n",
    "+0.07 +5.74 -11.12\n",
    "+0.09 +5.73 -3.28\n",
    "```\n",
    "\n",
    "```\n",
    "+1.00 +0.00 +0.08 +0.00\n",
    "+1.00 -0.00 +0.08 -0.00\n",
    "+1.00 -0.00 +0.08 -0.00\n",
    "[...]\n",
    "+1.00 +0.00 +0.07 +0.01\n",
    "+1.00 +0.00 +0.08 +0.01\n",
    "+1.00 +0.00 +0.08 +0.00\n",
    "```\n",
    "\n",
    "I'm guessing the triplets are location data, and the quadruplets are rotation. For one, because I dumped the location data when exporting the models, and it's somewhat close.\n",
    "\n",
    "The rotation data took way longer to figure out, over a month. In the models, rotation is encoded as three rotational angles, aka. Euler angles. However, here, through much trial and error, I discovered that the rotation is encoded using [quaternions](https://en.wikipedia.org/wiki/Quaternion). Quaternions are a great way of encoding rotation that doesn't suffer from [gimbal lock](https://en.wikipedia.org/wiki/Gimbal_lock), and computationally cheap compared to matrices. But it was still a surprise to see them used here.\n",
    "\n",
    "Even with this revelation, there are still issues. For the Mad Cat, the arms are displaced from the torso. For the Vulture, it's quite \"exploded\". For the Orion, the toes are displaced."
   ]
  },
  {
   "cell_type": "markdown",
   "metadata": {},
   "source": [
    "## Next up\n",
    "\n",
    "[`Mech3Msg.dll` message table/translations extraction](09-mech3msg.ipynb)\n",
    "\n",
    "**WARNING**: Work in progress below, trying to figure out why some animations don't apply properly"
   ]
  },
  {
   "cell_type": "code",
   "execution_count": 19,
   "metadata": {},
   "outputs": [],
   "source": [
    "def parse_motion(motion):\n",
    "    four, unk, frame_count, part_count, minus_one, plus_one = unpack_from(\"<If2I2f\", motion, 0)\n",
    "    assert four == 4\n",
    "    assert minus_one == -1.0\n",
    "    assert plus_one == 1.0\n",
    "    assert unk > 0.0\n",
    "    offset = 24\n",
    "    frame_count += 1\n",
    "    parts = {}\n",
    "    for _ in range(part_count):\n",
    "        # name size, name, twelve?\n",
    "        name_size, = unpack_from(\"<I\", motion, offset)\n",
    "        offset += 4\n",
    "        part_name = motion[offset : offset + name_size].decode(\"ascii\")\n",
    "        offset += name_size\n",
    "        twelve, = unpack_from(\"<I\", motion, offset)\n",
    "        assert twelve == 12\n",
    "        offset += 4\n",
    "        # location\n",
    "        location_count = frame_count * 3\n",
    "        location_data = unpack_from(f\"<{location_count}f\", motion, offset)\n",
    "        location_values = [location_data[i:i+3] for i in range(0, location_count, 3)]\n",
    "        offset += location_count * 4\n",
    "        # rotation\n",
    "        rotation_count = frame_count * 4\n",
    "        rotation_data = unpack_from(f\"<{rotation_count}f\", motion, offset)\n",
    "        rotation_values = [rotation_data[i:i+4] for i in range(0, rotation_count, 4)]\n",
    "        offset += rotation_count * 4\n",
    "        parts[part_name] = list(zip(location_values, rotation_values))\n",
    "    return parts\n",
    "\n",
    "parsed = {\n",
    "    name: parse_motion(motion)\n",
    "    for name, motion in motions.items()\n",
    "}"
   ]
  },
  {
   "cell_type": "code",
   "execution_count": null,
   "metadata": {},
   "outputs": [],
   "source": []
  }
 ],
 "metadata": {
  "kernelspec": {
   "display_name": "Python 3",
   "language": "python",
   "name": "python3"
  },
  "language_info": {
   "codemirror_mode": {
    "name": "ipython",
    "version": 3
   },
   "file_extension": ".py",
   "mimetype": "text/x-python",
   "name": "python",
   "nbconvert_exporter": "python",
   "pygments_lexer": "ipython3",
   "version": "3.7.7"
  }
 },
 "nbformat": 4,
 "nbformat_minor": 2
}
